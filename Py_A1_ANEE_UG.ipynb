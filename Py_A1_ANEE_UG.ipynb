{
  "cells": [
    {
      "cell_type": "markdown",
      "metadata": {
        "id": "J9IbCVjeRRNP"
      },
      "source": [
        "# **Taller Python A1**\n",
        "**$ANEE_{UG}$**\n",
        "\n",
        "**Semestre:** AGO–DIC 2025\n",
        "\n",
        "**Tallerista:** Caldera Hernández Edgar Israel\n",
        "\n",
        "**Alumno:**  \n"
      ]
    },
    {
      "cell_type": "markdown",
      "source": [
        "## ⚠️ IMPORTANTE  \n",
        "Para asegurarte de aprenderlo:  \n",
        "- Escribe los códigos en tu propio archivo de Colab.  \n",
        "- Lee con paciencia.  \n",
        "- Tómalo como aprender otro idioma.  \n",
        "\n",
        "---\n",
        "\n",
        "## 💻 Plataforma  \n",
        "Para el taller estaremos utilizando la plataforma **Google Colab**, que permite ejecutar código de Python en un entorno que combina **código tradicional** con **texto enriquecido**, aprovechando algunas funciones de *LaTeX* en la nube de Google.  \n",
        "\n",
        "---\n",
        "\n",
        "## 🗂 Por razones pedagógicas llamaremos así la orgnización de info.  \n",
        "\n",
        "- **Títulos** → *Section* → `#`  \n",
        "- **Subtítulos** → *Subsection* → `##`  \n",
        "- **Temas** → *Subsubsection* → `###`+"
      ],
      "metadata": {
        "id": "Wz4EXdNYcKL1"
      }
    },
    {
      "cell_type": "markdown",
      "metadata": {
        "id": "PdVLbKQyRdmW"
      },
      "source": [
        "---\n",
        "## 📌 1 — Variables\n",
        "---\n",
        "\n",
        "Partimos del hecho de que **Python** funciona como intermediario entre la computadora y una persona común.  \n",
        "\n",
        "Mientras nosotros utilizamos un **lenguaje abstracto y complejo**, las máquinas solo entienden **0 y 1** (corriente y no corriente).  \n",
        "Por ello, se han desarrollado **lenguajes de programación** que permiten que la comunicación sea accesible.  \n",
        "\n",
        "**Python** se considera uno de los más fáciles de aprender porque su forma de escritura es muy parecida al inglés popular.  \n",
        "\n",
        "En él podemos ingresar diferentes tipos de **variables**.  \n",
        "En este taller A1 veremos:  \n",
        "\n",
        "- **Números** (enteros y decimales)  \n",
        "- **Palabras** (*strings*)  \n",
        "- **Variables vacías**  \n",
        "- **Valores booleanos**  \n"
      ]
    },
    {
      "cell_type": "code",
      "execution_count": null,
      "metadata": {
        "id": "UVKCsQ8plSqH"
      },
      "outputs": [],
      "source": [
        "# Usamos \"=\" para guardar valores en variables de cualquier nombre, para hacerlo gráfico y se acostumbren a ver código lo harémos así.\n",
        "\n",
        "# Números:\n",
        "flotante = 3.234 #float\n",
        "entero = 45 #int\n",
        "\n",
        "# Palabras:\n",
        "cadena = \"Hola mundo\" #str\n",
        "\n",
        "# Verdadero/Falso:\n",
        "booleano = True #bool\n",
        "\n",
        "# Vacio:\n",
        "vacio = None #NoneType ES UN COMODIN\n",
        "\n",
        "# Extra:\n",
        "complejos = complex # Números complejos"
      ]
    },
    {
      "cell_type": "code",
      "execution_count": null,
      "metadata": {
        "colab": {
          "base_uri": "https://localhost:8080/"
        },
        "id": "zZRlioIWNFkq",
        "outputId": "a61cee41-e28d-4e08-e6d8-722637e13733"
      },
      "outputs": [
        {
          "output_type": "execute_result",
          "data": {
            "text/plain": [
              "True"
            ]
          },
          "metadata": {},
          "execution_count": 6
        }
      ],
      "source": [
        "# Ejemplo booleanos\n",
        "1 == 1 # IGUALDAD"
      ]
    },
    {
      "cell_type": "code",
      "source": [
        "1 != 1 # DESIGUALDAD"
      ],
      "metadata": {
        "colab": {
          "base_uri": "https://localhost:8080/"
        },
        "id": "rVGB5Fvcevav",
        "outputId": "b7d6bd63-0430-4567-a4af-231bef0409af"
      },
      "execution_count": null,
      "outputs": [
        {
          "output_type": "execute_result",
          "data": {
            "text/plain": [
              "False"
            ]
          },
          "metadata": {},
          "execution_count": 7
        }
      ]
    },
    {
      "cell_type": "code",
      "execution_count": null,
      "metadata": {
        "colab": {
          "base_uri": "https://localhost:8080/"
        },
        "id": "ZJxvwWUIqnNv",
        "outputId": "2d48d7ff-d9a2-4776-9938-37b1377ad750"
      },
      "outputs": [
        {
          "output_type": "stream",
          "name": "stdout",
          "text": [
            "30\n",
            "-10\n",
            "0.5\n",
            "200\n",
            "100000000000000000000\n"
          ]
        }
      ],
      "source": [
        "# Operaciones básicas, para mostrarlos usamos nuestra primer función nativa de py print()\n",
        "\n",
        "a = 10\n",
        "b = 20\n",
        "\n",
        "print(a+b)\n",
        "\n",
        "print(a-b)\n",
        "\n",
        "print(a/b)\n",
        "\n",
        "print(a*b)\n",
        "\n",
        "print(a**b)"
      ]
    },
    {
      "cell_type": "code",
      "execution_count": null,
      "metadata": {
        "colab": {
          "base_uri": "https://localhost:8080/"
        },
        "id": "SI6FeJc-lrmu",
        "outputId": "82cb2ae7-1345-4071-d81d-9c0254d023df"
      },
      "outputs": [
        {
          "output_type": "execute_result",
          "data": {
            "text/plain": [
              "2"
            ]
          },
          "metadata": {},
          "execution_count": 9
        }
      ],
      "source": [
        "# Podemos convertir los tipos de variables, por ejemplo convertir de entero un numero decimal, usando int()\n",
        "int(2.99)\n"
      ]
    },
    {
      "cell_type": "markdown",
      "source": [
        "---\n",
        "### Primeras funciones de LaTeX\n",
        "---\n",
        "\n",
        "Todo lo que escribamos entre los **símbolos de dinero** (`$ ... $`) se interpretará con una apariencia **matemática y académica**:  \n",
        "\n",
        "`$a_1$` → se verá como: $a_1$  \n",
        "\n",
        "Además, con la diagonal invertida `\\` activamos las funciones de **LaTeX**.  \n",
        "Con un poco de intuición (y confiando en nuestro inglés) podemos deducir muchas de las funciones nativas.  \n",
        "Algunos ejemplos:  \n",
        "\n",
        "- **Fracciones** → `\\frac{a}{b}` → $\\frac{a}{b}$  \n",
        "- **Sumatorias** → `\\sum` → $\\sum$  \n",
        "- **Subíndices** → `a_1` → $a_1$  \n",
        "- **Potencias** → `a^{2}` → $a^{2}$  \n"
      ],
      "metadata": {
        "id": "7i7AAoahfpvi"
      }
    },
    {
      "cell_type": "markdown",
      "metadata": {
        "id": "1xAvqKpB9h6s"
      },
      "source": [
        "---\n",
        "#### Primer Ejercicio\n",
        "---\n",
        "\n",
        "**Instrucción:**  \n",
        "Transcribe en el bloque de texto y en el bloque de código resuelve.  \n",
        "\n",
        "Necesito un programa que calcule:  \n",
        "\n",
        "$$c = \\left(a^{2} + b^{2}\\right)^{\\tfrac{1}{2}}$$\n",
        "\n",
        "Cuando a vale 10 y b vale 2."
      ]
    },
    {
      "cell_type": "code",
      "execution_count": null,
      "metadata": {
        "colab": {
          "base_uri": "https://localhost:8080/"
        },
        "id": "BR9aIy8URn1Z",
        "outputId": "83fcf3e0-1b1f-4447-bb95-36eb1f9ac072"
      },
      "outputs": [
        {
          "output_type": "stream",
          "name": "stdout",
          "text": [
            "10.198039027185569\n"
          ]
        },
        {
          "output_type": "execute_result",
          "data": {
            "text/plain": [
              "10"
            ]
          },
          "metadata": {},
          "execution_count": 14
        }
      ],
      "source": [
        "# Solución\n",
        "a = 10\n",
        "b = 2\n",
        "\n",
        "c = (a**2 + b**2)**(1/2)\n",
        "\n",
        "print(c)\n",
        "\n",
        "int(c)"
      ]
    },
    {
      "cell_type": "code",
      "execution_count": null,
      "metadata": {
        "colab": {
          "base_uri": "https://localhost:8080/"
        },
        "id": "G0WnB-Srsnat",
        "outputId": "6004022d-2b90-4698-cc1a-d83c269c69c8"
      },
      "outputs": [
        {
          "output_type": "stream",
          "name": "stdout",
          "text": [
            "1212121212121212121212121212\n"
          ]
        }
      ],
      "source": [
        "# Cómo funciona una string al hacerle operaciones\n",
        "\n",
        "str = '12'\n",
        "print(str*14)"
      ]
    },
    {
      "cell_type": "markdown",
      "source": [
        "---\n",
        "### Pedir información al usuario\n",
        "---\n",
        "\n",
        "Conoceremos la función **`input()`**, que ejecutará cualquier mensaje que pongas dentro entre comillas (`\"\"` o `''`) y mostrará una casilla para que el usuario responda.  \n",
        "\n",
        "Ejemplo:  \n",
        "\n"
      ],
      "metadata": {
        "id": "N21aw3e-g9YO"
      }
    },
    {
      "cell_type": "code",
      "execution_count": null,
      "metadata": {
        "colab": {
          "base_uri": "https://localhost:8080/"
        },
        "id": "IE8I5oUrs8ST",
        "outputId": "aee00971-401a-45d8-959c-bdf75dac71b3"
      },
      "outputs": [
        {
          "output_type": "stream",
          "name": "stdout",
          "text": [
            "¿Cuál es tu nombre?Edgar\n",
            "Hola, Edgar\n"
          ]
        }
      ],
      "source": [
        "nombre = input(\"¿Cuál es tu nombre?\")\n",
        "print(\"Hola,\", nombre)"
      ]
    },
    {
      "cell_type": "markdown",
      "source": [
        "### Tres formas de combianar texto con variables."
      ],
      "metadata": {
        "id": "pzMjUGg3hZSk"
      }
    },
    {
      "cell_type": "code",
      "execution_count": null,
      "metadata": {
        "colab": {
          "base_uri": "https://localhost:8080/"
        },
        "id": "2XT0W_JsSOid",
        "outputId": "4ada587b-8189-40fc-bb1d-50ec629ad35b"
      },
      "outputs": [
        {
          "output_type": "stream",
          "name": "stdout",
          "text": [
            "¿Cómo te llamas? Edgar\n",
            "Hola Edgar bienvenido a mi programa de python\n",
            "Hola Edgar bienvenido a mi programa de python\n",
            "Hola Edgar bienvenido a mi programa de python\n"
          ]
        }
      ],
      "source": [
        "name = input('¿Cómo te llamas? ')\n",
        "print(f'Hola {name} bienvenido a mi programa de python')\n",
        "print(\"Hola {} bienvenido a mi programa de python\".format(name))\n",
        "print(\"Hola\",name,\"bienvenido a mi programa de python\")"
      ]
    },
    {
      "cell_type": "markdown",
      "metadata": {
        "id": "4eCIjD2sdV0M"
      },
      "source": [
        "---\n",
        "## 📌 2 — Condicionales\n",
        "---\n",
        "\n",
        "El primer condicional que conoceremos será **`if`**, que significa *“si”*.  \n",
        "\n",
        "- **Si** algo se cumple → quiero que suceda esto.  \n",
        "- **Si no** se cumple → quiero que pase lo otro.  \n",
        "- **En cualquier otro caso** → haz esto.  \n"
      ]
    },
    {
      "cell_type": "code",
      "source": [
        "x = int(input(f\"Dí un numero, 1 o 2 \\n\"))\n",
        "\n",
        "if x == 1:\n",
        "    print(\"Te ganaste un coscorrón \")\n",
        "elif x == 2:\n",
        "    print(\"Te ganaste un jugo de naranja \")\n",
        "else:\n",
        "    print(\"Escribe sólo un 1 o un 2 \")"
      ],
      "metadata": {
        "colab": {
          "base_uri": "https://localhost:8080/"
        },
        "id": "uMpTYxbQ1QO8",
        "outputId": "6c8ca976-d9f1-4ad0-b50a-fb65e4b5f287"
      },
      "execution_count": null,
      "outputs": [
        {
          "output_type": "stream",
          "name": "stdout",
          "text": [
            "Dí un numero, 1 o 2 \n",
            "1\n",
            "Te ganaste un coscorrón \n"
          ]
        }
      ]
    },
    {
      "cell_type": "markdown",
      "source": [
        "### Ejemplo. El cadenero."
      ],
      "metadata": {
        "id": "R--5l9Gs3R4A"
      }
    },
    {
      "cell_type": "code",
      "execution_count": null,
      "metadata": {
        "id": "rMAOia43BTpj",
        "colab": {
          "base_uri": "https://localhost:8080/"
        },
        "outputId": "3b84f157-b95d-4715-e150-7f3ae3187a36"
      },
      "outputs": [
        {
          "output_type": "stream",
          "name": "stdout",
          "text": [
            "Bienvenido al bar de python \n",
            "Dime tu edad 18\n",
            "Puedes entrar\n"
          ]
        }
      ],
      "source": [
        "# Cadenero\n",
        "\n",
        "print(\"Bienvenido al bar DCEA \")\n",
        "\n",
        "edad = int(input(\"Dime tu edad \"))\n",
        "\n",
        "\n",
        "if edad >= 18:\n",
        "  print(\"Puedes entrar\")\n",
        "else:\n",
        "  print(\"No puedes entrar\")"
      ]
    },
    {
      "cell_type": "markdown",
      "metadata": {
        "id": "DfW164eGcUFS"
      },
      "source": [
        "---\n",
        "## 📌 3 — And, Or\n",
        "---\n",
        "\n",
        "Usaremos nuestros conocimientos de **lógica** para realizar operaciones útiles.  \n",
        "Puedes cambiar `and` por `or` y notar la diferencia en su resultado.  \n",
        "\n",
        "- `p and q` → será **verdadero** solo cuando *p* **y** *q* sean verdaderos.  \n",
        "   En cualquier otro caso será **falso**.  \n",
        "\n",
        "- `p or q` → será **verdadero** cuando *p* **o** *q* sean verdaderos.  \n",
        "   Solo será **falso** cuando ninguno lo sea.  \n"
      ]
    },
    {
      "cell_type": "code",
      "execution_count": null,
      "metadata": {
        "colab": {
          "base_uri": "https://localhost:8080/"
        },
        "id": "nzqXFqzBdZgd",
        "outputId": "c57f31a1-9b1f-4204-dc27-54221e360c60"
      },
      "outputs": [
        {
          "name": "stdout",
          "output_type": "stream",
          "text": [
            "enter password: password\n",
            "enter acount: correo@ugto.mx\n",
            "Bienvenido\n"
          ]
        }
      ],
      "source": [
        "# And\n",
        "password = 'password'\n",
        "acount = 'correo@ugto.mx'\n",
        "\n",
        "psw = input('enter password: ')\n",
        "aco = input('enter acount: ')\n",
        "\n",
        "if psw == password and aco == acount:\n",
        "  print('Bienvenido')\n",
        "else:\n",
        "  print('Acceso denegado')"
      ]
    },
    {
      "cell_type": "markdown",
      "metadata": {
        "id": "r4a64yIfr6Nf"
      },
      "source": [
        "#### Segundo Ejercicio: Transcribe en el bloque de texto y en bloque de código resuelve."
      ]
    },
    {
      "cell_type": "markdown",
      "metadata": {
        "id": "jl09cxt7s4Wm"
      },
      "source": [
        "$\\mu = \\frac{\\sum_{i=1}^{n} x_i}{n}$\n",
        "\n",
        "$s^2 = \\frac{\\sum_{i=1}^{n} (x_i - \\bar{x})^2}{n - 1}$\n"
      ]
    },
    {
      "cell_type": "code",
      "execution_count": null,
      "metadata": {
        "colab": {
          "base_uri": "https://localhost:8080/"
        },
        "id": "9pyFyUXZek66",
        "outputId": "d4eaf245-90c3-4a49-dd82-2a35bbd74bd2"
      },
      "outputs": [
        {
          "output_type": "stream",
          "name": "stdout",
          "text": [
            "Cálculo de la varianza muestral con tres valores\n",
            "Ingrese el primer valor: 40000000\n",
            "Ingrese el segundo valor: 65000000\n",
            "Ingrese el tercer valor: 600000000\n",
            "La media es: 235000000.0\n",
            "La varianza muestral es: 1.00075e+17\n"
          ]
        }
      ],
      "source": [
        "# Programa 2 (Ejercicio)\n",
        "\n",
        "# Cálculo de varianza muestral para tres datos\n",
        "\n",
        "print(\"Cálculo de la varianza muestral con tres valores\")\n",
        "\n",
        "# Ingreso de datos\n",
        "x1 = float(input(\"Ingrese el primer valor: \"))\n",
        "x2 = float(input(\"Ingrese el segundo valor: \"))\n",
        "x3 = float(input(\"Ingrese el tercer valor: \"))\n",
        "\n",
        "# Cálculo de la media\n",
        "media = (x1 + x2 + x3) / 3\n",
        "\n",
        "# Cálculo de la varianza muestral\n",
        "varianza = ((x1 - media)**2 + (x2 - media)**2 + (x3 - media)**2) / (3 - 1)\n",
        "\n",
        "# Mostrar resultados\n",
        "print(f\"La media es: {media}\")\n",
        "-print(f\"La varianza muestral es: {varianza}\")"
      ]
    },
    {
      "cell_type": "markdown",
      "metadata": {
        "id": "zEqm8T3Nz1lz"
      },
      "source": [
        "---\n",
        "## 📌 4 — Ciclo While\n",
        "---\n",
        "\n",
        "Nuestra primera función de ciclo será **`while`**, que en inglés significa *“mientras”*.  \n",
        "En otras palabras: *mientras algo no se cumpla, lo seguiré repitiendo*.  \n",
        "\n",
        "La estructura general es:  \n",
        "\n",
        "```python\n",
        "while condición:\n",
        "    proceso hasta cumplirse\n",
        "    resultado\n",
        "```\n",
        "Por ejemplo:"
      ]
    },
    {
      "cell_type": "code",
      "execution_count": null,
      "metadata": {
        "collapsed": true,
        "id": "R3kaDUx-vUC5",
        "colab": {
          "base_uri": "https://localhost:8080/"
        },
        "outputId": "32d09a02-9932-47a5-c582-67fca59e304c"
      },
      "outputs": [
        {
          "output_type": "stream",
          "name": "stdout",
          "text": [
            "51\n",
            "52\n",
            "53\n",
            "54\n",
            "55\n",
            "56\n",
            "57\n",
            "58\n",
            "59\n",
            "60\n",
            "61\n",
            "62\n",
            "63\n",
            "64\n",
            "65\n",
            "66\n",
            "67\n",
            "68\n",
            "69\n",
            "70\n",
            "71\n",
            "72\n",
            "73\n",
            "74\n",
            "75\n",
            "76\n",
            "77\n",
            "78\n",
            "79\n",
            "80\n",
            "81\n",
            "82\n",
            "83\n",
            "84\n",
            "85\n",
            "86\n",
            "87\n",
            "88\n",
            "89\n",
            "90\n",
            "91\n",
            "92\n",
            "93\n",
            "94\n",
            "95\n",
            "96\n",
            "97\n",
            "98\n",
            "99\n"
          ]
        }
      ],
      "source": [
        "# While\n",
        "contador = 50\n",
        "\n",
        "while contador < 99:\n",
        "  contador += 1\n",
        "  print(contador)"
      ]
    },
    {
      "cell_type": "markdown",
      "metadata": {
        "id": "DEn-bbfZzMM0"
      },
      "source": [
        "####  Ejercicios: Inciar sesión."
      ]
    },
    {
      "cell_type": "code",
      "execution_count": null,
      "metadata": {
        "colab": {
          "base_uri": "https://localhost:8080/"
        },
        "id": "bLjcE-Xxv1pj",
        "outputId": "773edd70-bed5-4e2a-f5f7-f94117e3bd9f"
      },
      "outputs": [
        {
          "output_type": "stream",
          "name": "stdout",
          "text": [
            "Ingrese la contraseña: password\n",
            "Ingrese la cuenta: correo@ugto.mx\n",
            "Bienvenido\n"
          ]
        }
      ],
      "source": [
        "# Condición secundaria + while\n",
        "password = 'password'\n",
        "acount = 'correo@ugto.mx'\n",
        "\n",
        "# Mientras no se acierte, seguir pidiendo datos\n",
        "while True:\n",
        "    psw = input('Ingrese la contraseña: ')\n",
        "    aco = input('Ingrese la cuenta: ')\n",
        "\n",
        "    if psw == password and aco == acount:\n",
        "        print('Bienvenido')\n",
        "        break  # Salir del bucle si es correcto\n",
        "    else:\n",
        "        print('Acceso denegado. Intente de nuevo.\\n')"
      ]
    },
    {
      "cell_type": "markdown",
      "source": [
        "### Ejercicios: Juego de Peleas\n",
        "\n",
        "Pyhton no es perfceto, por sí sólo no puede hacer muchas cosas, pero lo bueno de ser Open Source, es que cualquiera puede crear sus aportaciones, funciones programadas almacenadas en una \"librería\", en esta ocación usaremos una de esas que ejecuta de forma aleatoria resultados, siempre debemos llamarla antes de la lnea donde la necesitamos.\n",
        "\n",
        "from Librería import Función.\n",
        "\n",
        "Necesitaremos 4 variables, el del nombre y vida de los personajes. El juego se ejecutará siempre y cuando las vidas sean mayores a 0."
      ],
      "metadata": {
        "id": "5ZqwLfibzyTU"
      }
    },
    {
      "cell_type": "code",
      "execution_count": null,
      "metadata": {
        "id": "gHlbaI8EzQyX",
        "colab": {
          "base_uri": "https://localhost:8080/"
        },
        "outputId": "439558ce-d3a2-4226-84fe-ee480b49574e"
      },
      "outputs": [
        {
          "output_type": "stream",
          "name": "stdout",
          "text": [
            "Bienvenido al royal rumble \n",
            "Escoge tu personaje Sheinbaum\n",
            "Elige tu contrincante amlo\n",
            "\n",
            " Turno de amlo\n",
            "amlo te ataca con escupitajo \n",
            "La vida de Sheinbaum es: 60, la vida de amlo es: 75\n",
            "\n",
            " Tu turno Sheinbaum\n",
            "¿Qué quieres hacer? Soltar un [V]olado, [D]espeinarlo, o meterle un [Z]ape] (V/D/Z): z\n",
            "\n",
            " Sheinbaum le mete un zape \n",
            "\n",
            " Turno de amlo\n",
            "amlo te atina con piquete de ojos \n",
            "La vida de Sheinbaum es: 31, la vida de amlo es: 50\n",
            "\n",
            " Tu turno Sheinbaum\n",
            "¿Qué quieres hacer? Soltar un [V]olado, [D]espeinarlo, o meterle un [Z]ape] (V/D/Z): z\n",
            "\n",
            " Sheinbaum le mete un zape \n",
            "\n",
            " Turno de amlo\n",
            "amlo te atina con piquete de ojos \n",
            "La vida de Sheinbaum es: 2, la vida de amlo es: 25\n",
            "\n",
            " Tu turno Sheinbaum\n",
            "¿Qué quieres hacer? Soltar un [V]olado, [D]espeinarlo, o meterle un [Z]ape] (V/D/Z): z\n",
            "\n",
            " Sheinbaum le mete un zape \n",
            "\n",
            "=== Fin de la pelea ===\n",
            "Sheinbaum ganaste, hiciste trampa, modificaste el código \n"
          ]
        }
      ],
      "source": [
        "print(f\"Bienvenido al royal rumble \")\n",
        "\n",
        "j1_name = input(\"Escoge tu personaje \")\n",
        "cpu_name = input(\"Elige tu contrincante \")\n",
        "\n",
        "from random import randint\n",
        "j1_life = 75\n",
        "cpu_life = 75\n",
        "\n",
        "while cpu_life > 0 and j1_life > 0:\n",
        "    # Se desenvuelven los turnos de combate\n",
        "\n",
        "    # Turno de cpu\n",
        "    print(f\"\\n Turno de {cpu_name}\")\n",
        "    ataque_cpu = randint(1, 2)\n",
        "    # Ataques\n",
        "    if ataque_cpu == 1:\n",
        "        print(f\"{cpu_name} te ataca con escupitajo \")\n",
        "        j1_life -= 15\n",
        "    else:\n",
        "        print(f\"{cpu_name} te atina con piquete de ojos \")\n",
        "        j1_life -= 29\n",
        "\n",
        "    print(f\"La vida de {j1_name} es: {j1_life}, la vida de {cpu_name} es: {cpu_life}\")\n",
        "\n",
        "    # Check if player 1's life is 0 or less after CPU attack\n",
        "    if j1_life <= 0:\n",
        "        break\n",
        "\n",
        "    # Turno del jugador\n",
        "    print(f\"\\n Tu turno {j1_name}\")\n",
        "\n",
        "    j1_ataque = None\n",
        "    while j1_ataque != \"V\" and j1_ataque != \"D\" and j1_ataque != \"Z\":\n",
        "        j1_ataque = input(\"¿Qué quieres hacer? Soltar un [V]olado, [D]espeinarlo, o meterle un [Z]ape] (V/D/Z): \").upper()\n",
        "\n",
        "    if j1_ataque == \"V\":\n",
        "        print(f\"\\n {j1_name} se defiende con un volado \")\n",
        "        cpu_life -= 17\n",
        "    elif j1_ataque == \"D\":\n",
        "        print(f\"\\n {j1_name} apenas alcanza a despeinar\")\n",
        "        cpu_life -= 1\n",
        "    elif j1_ataque == \"Z\":\n",
        "        print(f\"\\n {j1_name} le mete un zape \")\n",
        "        cpu_life -= 25\n",
        "\n",
        "    # Check if CPU's life is 0 or less after player 1 attack\n",
        "    if cpu_life <= 0:\n",
        "        break\n",
        "\n",
        "\n",
        "if j1_life > cpu_life:\n",
        "    print(\"\\n=== Fin de la pelea ===\")\n",
        "    print(f\"{j1_name} ganaste, hiciste trampa, modificaste el código \")\n",
        "else:\n",
        "    print(\"\\n=== Fin de la pelea ===\")\n",
        "    print(f\"nmms que {cpu_name} te ganó \")"
      ]
    },
    {
      "cell_type": "markdown",
      "source": [
        "---\n",
        "## 🟡 Primer Evidencia\n",
        "---"
      ],
      "metadata": {
        "id": "rbVLqbyNziK2"
      }
    },
    {
      "cell_type": "markdown",
      "source": [
        "#### Primer Ejercicio\n",
        "\n",
        "**a)** Escribe las **4 operaciones fundamentales** en $\\LaTeX$ y en **Python** cuando $a = 1000$ y $b = 15$.  \n",
        "\n",
        "**b)** Idea un código que en el *output* salga:  \n",
        "`1414141414...` (100 veces).  \n"
      ],
      "metadata": {
        "id": "RIhmmdKT0j9n"
      }
    },
    {
      "cell_type": "markdown",
      "source": [
        "Suma -> $a+b$\n",
        "\n",
        "Resta -> $a-b$\n",
        "\n",
        "Prod. -> $a*b$\n",
        "\n",
        "Div. -> $a/b$"
      ],
      "metadata": {
        "id": "dINGnxSs1TOY"
      }
    },
    {
      "cell_type": "code",
      "source": [
        "a = 1000\n",
        "b = 15\n",
        "\n",
        "print(a+b)\n",
        "print(a-b)\n",
        "print(a*b)\n",
        "print(a/b)"
      ],
      "metadata": {
        "id": "hIwTcLul1h2U"
      },
      "execution_count": null,
      "outputs": []
    },
    {
      "cell_type": "code",
      "source": [
        "# b)\n",
        "print('14'*100)"
      ],
      "metadata": {
        "id": "QJ00PCuH1vKM"
      },
      "execution_count": null,
      "outputs": []
    },
    {
      "cell_type": "markdown",
      "source": [
        "#### Segundo Ejercicio\n",
        "\n",
        "**Instrucción:**  \n",
        "Crea un código que cuente del **50 al 99**.  \n"
      ],
      "metadata": {
        "id": "UFslyPDQ0t6K"
      }
    },
    {
      "cell_type": "code",
      "source": [
        "contador = 49\n",
        "\n",
        "while contador < 99:\n",
        "  contador += 1\n",
        "  print(contador)"
      ],
      "metadata": {
        "colab": {
          "base_uri": "https://localhost:8080/"
        },
        "collapsed": true,
        "id": "s1Wi3P8m1lwz",
        "outputId": "5385991e-0f73-47ff-b84b-7197d8d413ac"
      },
      "execution_count": null,
      "outputs": [
        {
          "output_type": "stream",
          "name": "stdout",
          "text": [
            "50\n",
            "51\n",
            "52\n",
            "53\n",
            "54\n",
            "55\n",
            "56\n",
            "57\n",
            "58\n",
            "59\n",
            "60\n",
            "61\n",
            "62\n",
            "63\n",
            "64\n",
            "65\n",
            "66\n",
            "67\n",
            "68\n",
            "69\n",
            "70\n",
            "71\n",
            "72\n",
            "73\n",
            "74\n",
            "75\n",
            "76\n",
            "77\n",
            "78\n",
            "79\n",
            "80\n",
            "81\n",
            "82\n",
            "83\n",
            "84\n",
            "85\n",
            "86\n",
            "87\n",
            "88\n",
            "89\n",
            "90\n",
            "91\n",
            "92\n",
            "93\n",
            "94\n",
            "95\n",
            "96\n",
            "97\n",
            "98\n",
            "99\n"
          ]
        }
      ]
    },
    {
      "cell_type": "markdown",
      "source": [
        "#### Tercer Ejercicio: Transcribe en el bloque de texto y en bloque de código resuelve.\n",
        "La anécdota cuenta que Carl Friedrich Gauss, siendo un niño, sumó con rapidez los enteros del $1$ al $n$ emparejando los extremos:\n",
        "$1+n, 2+(n-1), 3+(n-2), \\ldots$\n",
        "\n",
        "Cada par suma $n+1$. Si $n$ es par, hay $\\frac{n}{2}$ pares; si $n$ es impar, hay $\\frac{(n-1)}{2}$ pares y un término central. De esta observación se deduce la identidad:\n",
        "$\\sum_{k=1}^{n} k = \\frac{n(n+1)}{2}.$"
      ],
      "metadata": {
        "id": "AEndhINjEMSn"
      }
    },
    {
      "cell_type": "code",
      "source": [
        "Gauss = int(input(f\"Ingresa n \\n\"))\n",
        "\n",
        "suma = Gauss * (Gauss + 1) / 2\n",
        "\n",
        "print(f\"La suma de Gauss de 1 a {Gauss} es {suma}\")"
      ],
      "metadata": {
        "colab": {
          "base_uri": "https://localhost:8080/"
        },
        "id": "bI1H-7KADzFC",
        "outputId": "60d049d1-cd63-4234-df6f-7cec317ca604"
      },
      "execution_count": null,
      "outputs": [
        {
          "output_type": "stream",
          "name": "stdout",
          "text": [
            "Ingresa n \n",
            "100\n",
            "La suma de Gauss de 1 a 100 es 5050.0\n"
          ]
        }
      ]
    },
    {
      "cell_type": "markdown",
      "source": [
        "## ⚠️ ¿Que pueden hacer con lo que saben hasta ahora?\n",
        "\n",
        "- Han aprendido a crear **presentaciones estéticas** para programación básica en *Python*.  \n",
        "\n",
        "- Con el conocimiento de **LaTeX**, pueden comenzar sus primeros textos sin problema  \n",
        "  *(se recomienda **Overleaf**, hay un template en Drive)*.  \n",
        "\n",
        "- Identifican, diferencian e implementan los **tipos de variables** indispensables para cualquier programador(@).  \n",
        "\n",
        "- Son capaces de aplicar la **lógica matemática** al programar funciones.  \n",
        "\n",
        "- Pueden **personalizar sus códigos** hasta el dedillo.  \n",
        "\n",
        "- Si escribieron los ejercicios, habrán desarrollado mejor **memoria muscular** que al inicio.  \n",
        "\n",
        "- Se demostraron, una vez más, que pueden **aprender y lograr lo que se propongan**.  \n"
      ],
      "metadata": {
        "id": "BQuJOnfT3hiR"
      }
    },
    {
      "cell_type": "markdown",
      "source": [
        "---\n",
        "## 📌 5 — Listas\n",
        "---\n",
        "\n",
        "No es mas que una colección ordenada y **mutable** de elementos, siempre entre **`[]`**\n"
      ],
      "metadata": {
        "id": "9mfsGuHeoasL"
      }
    },
    {
      "cell_type": "code",
      "source": [
        "grupos = [] #Lista vacia\n",
        "print(grupos)\n",
        "# Creamos una lista con bandas\n",
        "grupos = [\"Son lux\", \"Oasis\", \"Coldplay\", \"Gyorgi Ligetti\"]\n",
        "\n",
        "print(\"Mis bandas favoritas son:\")\n",
        "print(grupos)\n",
        "type(grupos)"
      ],
      "metadata": {
        "id": "Yil09ipfpxhz",
        "colab": {
          "base_uri": "https://localhost:8080/"
        },
        "outputId": "d93ea0e8-4b50-4156-d781-685c4ea5f28e"
      },
      "execution_count": null,
      "outputs": [
        {
          "output_type": "stream",
          "name": "stdout",
          "text": [
            "[]\n",
            "Mis bandas favoritas son:\n",
            "['Son lux', 'Oasis', 'Coldplay', 'Gyorgi Ligetti']\n"
          ]
        },
        {
          "output_type": "execute_result",
          "data": {
            "text/plain": [
              "list"
            ]
          },
          "metadata": {},
          "execution_count": 3
        }
      ]
    },
    {
      "cell_type": "code",
      "source": [
        "#longitud de la lista\n",
        "print(len(grupos))\n",
        "\n",
        "#visualizar los elemtnos de la lista mediante u posición\n",
        "  # Primer elemnto\n",
        "print(grupos[0])\n",
        "\n",
        "  # Ultimo elemnto\n",
        "print(grupos[-1])\n",
        "\n",
        "  # agregar elemnto\n",
        "grupos.append(\"Bronco\")\n",
        "print(grupos)\n",
        "\n",
        "  # Eliminar elemnto\n",
        "grupos.remove(\"Bronco\")\n",
        "print(grupos)\n",
        "  # min max\n",
        "print(\"\\nGénero alfabéticamente primero:\", min(grupos))\n",
        "print(\"Género alfabéticamente último:\", max(grupos))\n",
        "\n",
        "# Ordenar alfabéticamente\n",
        "grupos.sort()\n",
        "print(\"\\nLista ordenada alfabéticamente:\", grupos)\n",
        "\n",
        "# Ordenar en orden inverso\n",
        "grupos.sort(reverse=True)\n",
        "print(\"Lista en orden inverso:\", grupos)"
      ],
      "metadata": {
        "id": "cFHb9LtUp0lD",
        "colab": {
          "base_uri": "https://localhost:8080/"
        },
        "outputId": "d247d7d7-d338-4d44-b699-521597bd5c58"
      },
      "execution_count": null,
      "outputs": [
        {
          "output_type": "stream",
          "name": "stdout",
          "text": [
            "4\n",
            "Son lux\n",
            "Gyorgi Ligetti\n",
            "['Son lux', 'Oasis', 'Coldplay', 'Gyorgi Ligetti', 'Bronco']\n",
            "['Son lux', 'Oasis', 'Coldplay', 'Gyorgi Ligetti']\n",
            "\n",
            "Género alfabéticamente primero: Coldplay\n",
            "Género alfabéticamente último: Son lux\n",
            "\n",
            "Lista ordenada alfabéticamente: ['Coldplay', 'Gyorgi Ligetti', 'Oasis', 'Son lux']\n",
            "Lista en orden inverso: ['Son lux', 'Oasis', 'Gyorgi Ligetti', 'Coldplay']\n"
          ]
        }
      ]
    },
    {
      "cell_type": "code",
      "source": [
        "numeros = [10, 3, 7, 42, -5]\n",
        "\n",
        "#longitud de la lista\n",
        "print(len(numeros))\n",
        "\n",
        "#visualizar los elemtnos de la lista mediante u posición\n",
        "  # Primer elemnto\n",
        "print(numeros[0])\n",
        "\n",
        "  # Ultimo elemnto\n",
        "print(numeros[-1])\n",
        "\n",
        "  # agregar elemnto\n",
        "numeros.append(\"Metal\")\n",
        "print(numeros)\n",
        "\n",
        "  # Eliminar elemnto\n",
        "numeros.remove(\"Metal\")\n",
        "print(numeros)\n",
        "  # min max\n",
        "print(\"\\nPrimero:\", min(numeros))\n",
        "print(\"Último:\", max(numeros))\n",
        "\n",
        "# Ordenar alfabéticamente\n",
        "numeros.sort()\n",
        "print(\"\\nLista ordenada alfabéticamente:\", numeros)\n",
        "\n",
        "# Ordenar en orden inverso\n",
        "numeros.sort(reverse=True)\n",
        "print(\"Lista en orden inverso:\", numeros)"
      ],
      "metadata": {
        "id": "V41Nmdgvp1PP",
        "colab": {
          "base_uri": "https://localhost:8080/"
        },
        "outputId": "0c965192-d492-45b7-bca6-04cf6e2a0350"
      },
      "execution_count": null,
      "outputs": [
        {
          "output_type": "stream",
          "name": "stdout",
          "text": [
            "5\n",
            "10\n",
            "-5\n",
            "[10, 3, 7, 42, -5, 'Metal']\n",
            "[10, 3, 7, 42, -5]\n",
            "\n",
            "Primero: -5\n",
            "Último: 42\n",
            "\n",
            "Lista ordenada alfabéticamente: [-5, 3, 7, 10, 42]\n",
            "Lista en orden inverso: [42, 10, 7, 3, -5]\n"
          ]
        }
      ]
    },
    {
      "cell_type": "code",
      "source": [
        "# Tuplas (Listas no modificables)\n",
        "numeros = (10, 3, 7, 42, -5)\n",
        "\n",
        "numeros.append(\"Metal\")\n",
        "print(numeros)"
      ],
      "metadata": {
        "colab": {
          "base_uri": "https://localhost:8080/",
          "height": 193
        },
        "id": "EUkK8XngcbEs",
        "outputId": "47d4b7c6-af40-4428-ea3e-29ce9e8296f7"
      },
      "execution_count": null,
      "outputs": [
        {
          "output_type": "error",
          "ename": "AttributeError",
          "evalue": "'tuple' object has no attribute 'append'",
          "traceback": [
            "\u001b[0;31m---------------------------------------------------------------------------\u001b[0m",
            "\u001b[0;31mAttributeError\u001b[0m                            Traceback (most recent call last)",
            "\u001b[0;32m/tmp/ipython-input-3769637851.py\u001b[0m in \u001b[0;36m<cell line: 0>\u001b[0;34m()\u001b[0m\n\u001b[1;32m      2\u001b[0m \u001b[0mnumeros\u001b[0m \u001b[0;34m=\u001b[0m \u001b[0;34m(\u001b[0m\u001b[0;36m10\u001b[0m\u001b[0;34m,\u001b[0m \u001b[0;36m3\u001b[0m\u001b[0;34m,\u001b[0m \u001b[0;36m7\u001b[0m\u001b[0;34m,\u001b[0m \u001b[0;36m42\u001b[0m\u001b[0;34m,\u001b[0m \u001b[0;34m-\u001b[0m\u001b[0;36m5\u001b[0m\u001b[0;34m)\u001b[0m\u001b[0;34m\u001b[0m\u001b[0;34m\u001b[0m\u001b[0m\n\u001b[1;32m      3\u001b[0m \u001b[0;34m\u001b[0m\u001b[0m\n\u001b[0;32m----> 4\u001b[0;31m \u001b[0mnumeros\u001b[0m\u001b[0;34m.\u001b[0m\u001b[0mappend\u001b[0m\u001b[0;34m(\u001b[0m\u001b[0;34m\"Metal\"\u001b[0m\u001b[0;34m)\u001b[0m\u001b[0;34m\u001b[0m\u001b[0;34m\u001b[0m\u001b[0m\n\u001b[0m\u001b[1;32m      5\u001b[0m \u001b[0mprint\u001b[0m\u001b[0;34m(\u001b[0m\u001b[0mnumeros\u001b[0m\u001b[0;34m)\u001b[0m\u001b[0;34m\u001b[0m\u001b[0;34m\u001b[0m\u001b[0m\n",
            "\u001b[0;31mAttributeError\u001b[0m: 'tuple' object has no attribute 'append'"
          ]
        }
      ]
    },
    {
      "cell_type": "markdown",
      "source": [
        "---\n",
        "## 📌 6 — Ciclo For\n",
        "---\n",
        "for sirve para iterar (recorrer) secuencias o iterables (listas, tuplas, cadenas, diccionarios, rangos, archivos, generadores, etc.).\n",
        "En cada vuelta (“iteración”), for te entrega un elemento de la secuencia para que hagas algo con él."
      ],
      "metadata": {
        "id": "WOZI2RcYofgc"
      }
    },
    {
      "cell_type": "code",
      "source": [
        "for cualquiercosa in numeros:\n",
        "    print(cualquiercosa)\n",
        "\n",
        "for cualquiercosa in grupos:\n",
        "    print(cualquiercosa)\n",
        "\n",
        "for genero in grupos:\n",
        "    print(\"Me gusta escuchar\", genero)"
      ],
      "metadata": {
        "id": "nYqglb5hp83C"
      },
      "execution_count": null,
      "outputs": []
    },
    {
      "cell_type": "code",
      "source": [
        "for i in range(59, 100):\n",
        "    print(i)"
      ],
      "metadata": {
        "id": "l8Uk5zsDp-u5"
      },
      "execution_count": null,
      "outputs": []
    },
    {
      "cell_type": "code",
      "source": [
        "palabra = \"Python\"\n",
        "for letra in reversed(palabra):\n",
        "    print(letra)"
      ],
      "metadata": {
        "id": "Shj-lX8aqA1t"
      },
      "execution_count": null,
      "outputs": []
    },
    {
      "cell_type": "code",
      "source": [
        "# Tablas de multiplicar\n",
        "for numero in range(1,11):\n",
        "  print(f\"Tabla del {numero}\")\n",
        "  for producto in range(1,11):\n",
        "    print(f\"{numero} x {producto} = {numero * producto}\")\n",
        "  print(\"-----\")"
      ],
      "metadata": {
        "id": "H2p9_4CiqDQc",
        "colab": {
          "base_uri": "https://localhost:8080/"
        },
        "outputId": "5f3216cd-6573-4168-b41f-697df701cb66"
      },
      "execution_count": null,
      "outputs": [
        {
          "output_type": "stream",
          "name": "stdout",
          "text": [
            "Tabla del 1\n",
            "1 x 1 = 1\n",
            "1 x 2 = 2\n",
            "1 x 3 = 3\n",
            "1 x 4 = 4\n",
            "1 x 5 = 5\n",
            "1 x 6 = 6\n",
            "1 x 7 = 7\n",
            "1 x 8 = 8\n",
            "1 x 9 = 9\n",
            "1 x 10 = 10\n",
            "-----\n",
            "Tabla del 2\n",
            "2 x 1 = 2\n",
            "2 x 2 = 4\n",
            "2 x 3 = 6\n",
            "2 x 4 = 8\n",
            "2 x 5 = 10\n",
            "2 x 6 = 12\n",
            "2 x 7 = 14\n",
            "2 x 8 = 16\n",
            "2 x 9 = 18\n",
            "2 x 10 = 20\n",
            "-----\n",
            "Tabla del 3\n",
            "3 x 1 = 3\n",
            "3 x 2 = 6\n",
            "3 x 3 = 9\n",
            "3 x 4 = 12\n",
            "3 x 5 = 15\n",
            "3 x 6 = 18\n",
            "3 x 7 = 21\n",
            "3 x 8 = 24\n",
            "3 x 9 = 27\n",
            "3 x 10 = 30\n",
            "-----\n",
            "Tabla del 4\n",
            "4 x 1 = 4\n",
            "4 x 2 = 8\n",
            "4 x 3 = 12\n",
            "4 x 4 = 16\n",
            "4 x 5 = 20\n",
            "4 x 6 = 24\n",
            "4 x 7 = 28\n",
            "4 x 8 = 32\n",
            "4 x 9 = 36\n",
            "4 x 10 = 40\n",
            "-----\n",
            "Tabla del 5\n",
            "5 x 1 = 5\n",
            "5 x 2 = 10\n",
            "5 x 3 = 15\n",
            "5 x 4 = 20\n",
            "5 x 5 = 25\n",
            "5 x 6 = 30\n",
            "5 x 7 = 35\n",
            "5 x 8 = 40\n",
            "5 x 9 = 45\n",
            "5 x 10 = 50\n",
            "-----\n",
            "Tabla del 6\n",
            "6 x 1 = 6\n",
            "6 x 2 = 12\n",
            "6 x 3 = 18\n",
            "6 x 4 = 24\n",
            "6 x 5 = 30\n",
            "6 x 6 = 36\n",
            "6 x 7 = 42\n",
            "6 x 8 = 48\n",
            "6 x 9 = 54\n",
            "6 x 10 = 60\n",
            "-----\n",
            "Tabla del 7\n",
            "7 x 1 = 7\n",
            "7 x 2 = 14\n",
            "7 x 3 = 21\n",
            "7 x 4 = 28\n",
            "7 x 5 = 35\n",
            "7 x 6 = 42\n",
            "7 x 7 = 49\n",
            "7 x 8 = 56\n",
            "7 x 9 = 63\n",
            "7 x 10 = 70\n",
            "-----\n",
            "Tabla del 8\n",
            "8 x 1 = 8\n",
            "8 x 2 = 16\n",
            "8 x 3 = 24\n",
            "8 x 4 = 32\n",
            "8 x 5 = 40\n",
            "8 x 6 = 48\n",
            "8 x 7 = 56\n",
            "8 x 8 = 64\n",
            "8 x 9 = 72\n",
            "8 x 10 = 80\n",
            "-----\n",
            "Tabla del 9\n",
            "9 x 1 = 9\n",
            "9 x 2 = 18\n",
            "9 x 3 = 27\n",
            "9 x 4 = 36\n",
            "9 x 5 = 45\n",
            "9 x 6 = 54\n",
            "9 x 7 = 63\n",
            "9 x 8 = 72\n",
            "9 x 9 = 81\n",
            "9 x 10 = 90\n",
            "-----\n",
            "Tabla del 10\n",
            "10 x 1 = 10\n",
            "10 x 2 = 20\n",
            "10 x 3 = 30\n",
            "10 x 4 = 40\n",
            "10 x 5 = 50\n",
            "10 x 6 = 60\n",
            "10 x 7 = 70\n",
            "10 x 8 = 80\n",
            "10 x 9 = 90\n",
            "10 x 10 = 100\n",
            "-----\n"
          ]
        }
      ]
    },
    {
      "cell_type": "markdown",
      "source": [
        "---\n",
        "## 📌 7 - Diccionarios\n",
        "---\n",
        "\n",
        "Un **diccionario** (`dict`) es una colección **no ordenada** y **mutable** de **pares clave→valor**.  \n",
        "- Acceso y actualización por **clave** (no por índice).  \n",
        "- Claves **únicas** e **inmutables** (p. ej., `str`, `int`, `tuple`).  \n",
        "- Valores de **cualquier** tipo.\n"
      ],
      "metadata": {
        "id": "Sv0r6qn1qzU2"
      }
    },
    {
      "cell_type": "code",
      "source": [
        "# Diccionario: género -> artista favorito\n",
        "dic_musica = {\n",
        "    \"Rock\": \"Queen\",\n",
        "    \"Pop\": \"Coldplay\",\n",
        "    \"Metal\": \"Slipknot\",\n",
        "    \"Clásica\": \"Mozart\",\n",
        "    \"Indie\": \"Hesse Kassel\"\n",
        "}\n",
        "\n",
        "dic_musica\n",
        "\n"
      ],
      "metadata": {
        "colab": {
          "base_uri": "https://localhost:8080/"
        },
        "id": "7l_7B1fQbL_m",
        "outputId": "528ad4fd-3637-4aed-db42-f78327cfe5c0"
      },
      "execution_count": null,
      "outputs": [
        {
          "output_type": "execute_result",
          "data": {
            "text/plain": [
              "{'Rock': 'Queen',\n",
              " 'Pop': 'Coldplay',\n",
              " 'Metal': 'Slipknot',\n",
              " 'Clásica': 'Mozart',\n",
              " 'Indie': 'Hesse Kassel'}"
            ]
          },
          "metadata": {},
          "execution_count": 24
        }
      ]
    },
    {
      "cell_type": "code",
      "source": [
        "# Ver las keys\n",
        "dic_musica.keys()"
      ],
      "metadata": {
        "colab": {
          "base_uri": "https://localhost:8080/"
        },
        "id": "ZGJZWhptbmXy",
        "outputId": "f333151f-4133-4580-da3e-3bfdf4bd1acd"
      },
      "execution_count": null,
      "outputs": [
        {
          "output_type": "execute_result",
          "data": {
            "text/plain": [
              "dict_keys(['Rock', 'Pop', 'Metal', 'Clásica', 'Indie'])"
            ]
          },
          "metadata": {},
          "execution_count": 25
        }
      ]
    },
    {
      "cell_type": "code",
      "source": [
        "#Acceder al valor de una key\n",
        "dic_musica.get('Rock')"
      ],
      "metadata": {
        "colab": {
          "base_uri": "https://localhost:8080/",
          "height": 35
        },
        "id": "1fu8GHOtbi3W",
        "outputId": "5437e4bc-1a88-458c-9419-250bb939a020"
      },
      "execution_count": null,
      "outputs": [
        {
          "output_type": "execute_result",
          "data": {
            "text/plain": [
              "'Queen'"
            ],
            "application/vnd.google.colaboratory.intrinsic+json": {
              "type": "string"
            }
          },
          "metadata": {},
          "execution_count": 26
        }
      ]
    },
    {
      "cell_type": "code",
      "source": [
        "# Sustituir un valor\n",
        "dic_musica[\"Rock\"] = \"Metallica\"\n",
        "dic_musica"
      ],
      "metadata": {
        "colab": {
          "base_uri": "https://localhost:8080/"
        },
        "id": "Dq_4lKZnb9_Y",
        "outputId": "a26cb1f1-8a74-4b81-f2b0-fe75863259ec"
      },
      "execution_count": null,
      "outputs": [
        {
          "output_type": "execute_result",
          "data": {
            "text/plain": [
              "{'Rock': 'Metallica',\n",
              " 'Pop': 'Coldplay',\n",
              " 'Metal': 'Slipknot',\n",
              " 'Clásica': 'Mozart',\n",
              " 'Indie': 'Hesse Kassel',\n",
              " 'Salsa': 'Marc Anthony'}"
            ]
          },
          "metadata": {},
          "execution_count": 29
        }
      ]
    },
    {
      "cell_type": "code",
      "source": [
        "# Agregar un par de información\n",
        "dic_musica[\"Salsa\"] = \"Marc Anthony\"\n",
        "dic_musica"
      ],
      "metadata": {
        "colab": {
          "base_uri": "https://localhost:8080/"
        },
        "id": "2sTeBWK-b1GV",
        "outputId": "1c7582e4-321c-41de-ccb3-0ff4d64567f0"
      },
      "execution_count": null,
      "outputs": [
        {
          "output_type": "execute_result",
          "data": {
            "text/plain": [
              "{'Rock': 'Queen',\n",
              " 'Pop': 'Coldplay',\n",
              " 'Metal': 'Slipknot',\n",
              " 'Clásica': 'Mozart',\n",
              " 'Indie': 'Hesse Kassel',\n",
              " 'Salsa': 'Marc Anthony'}"
            ]
          },
          "metadata": {},
          "execution_count": 27
        }
      ]
    },
    {
      "cell_type": "code",
      "source": [
        "# Eliminar un par\n",
        "del dic_musica[\"Salsa\"]\n",
        "dic_musica"
      ],
      "metadata": {
        "colab": {
          "base_uri": "https://localhost:8080/"
        },
        "id": "BTPE6drAclI6",
        "outputId": "a63d19c8-49ef-4fb6-a208-d5fff505d68b"
      },
      "execution_count": null,
      "outputs": [
        {
          "output_type": "execute_result",
          "data": {
            "text/plain": [
              "{'Rock': 'Metallica',\n",
              " 'Pop': 'Coldplay',\n",
              " 'Metal': 'Slipknot',\n",
              " 'Clásica': 'Mozart',\n",
              " 'Indie': 'Hesse Kassel'}"
            ]
          },
          "metadata": {},
          "execution_count": 34
        }
      ]
    },
    {
      "cell_type": "code",
      "source": [
        "# Ver todos los pares\n",
        "dic_musica.items()"
      ],
      "metadata": {
        "colab": {
          "base_uri": "https://localhost:8080/"
        },
        "id": "cYbyPMNocpdD",
        "outputId": "7b42cc05-2113-441f-856a-098b25671bdb"
      },
      "execution_count": null,
      "outputs": [
        {
          "output_type": "execute_result",
          "data": {
            "text/plain": [
              "dict_items([('Rock', 'Metallica'), ('Pop', 'Coldplay'), ('Metal', 'Slipknot'), ('Clásica', 'Mozart'), ('Indie', 'Hesse Kassel'), ('Salsa', 'Marc Anthony')])"
            ]
          },
          "metadata": {},
          "execution_count": 32
        }
      ]
    },
    {
      "cell_type": "code",
      "source": [
        "# Ver todos los valores\n",
        "dic_musica.values()"
      ],
      "metadata": {
        "colab": {
          "base_uri": "https://localhost:8080/"
        },
        "id": "_mjR2OqVcrh2",
        "outputId": "def15427-6d5d-4635-8e36-b7bcdb014bb1"
      },
      "execution_count": null,
      "outputs": [
        {
          "output_type": "execute_result",
          "data": {
            "text/plain": [
              "dict_values(['Metallica', 'Coldplay', 'Slipknot', 'Mozart', 'Hesse Kassel', 'Marc Anthony'])"
            ]
          },
          "metadata": {},
          "execution_count": 31
        }
      ]
    },
    {
      "cell_type": "markdown",
      "source": [
        "---\n",
        "## 📌 8 — Funciones\n",
        "---\n",
        "Una **función** en Python es un bloque reutilizable de código que **encapsula** una tarea y puede **recibir argumentos** y **devolver un valor**.\n",
        "\n",
        "- Se define con `def nombre(parámetros):`.\n",
        "- Permite **parámetros con valor por defecto**, `*args` (posicionales variables) y `**kwargs` (nombrados variables).\n",
        "- Mejora **modularidad**, **legibilidad** y **reutilización**.\n",
        "\n",
        "**Muy util para trabajos largos y limpieza de código.**"
      ],
      "metadata": {
        "id": "NN1dlHZnq28W"
      }
    },
    {
      "cell_type": "code",
      "source": [
        "def contador():\n",
        "  print(\"Bienvenido al contador \")\n",
        "  n = int(input(\"Ingresa un numero para contar hasta  el. \\n\"))\n",
        "  contador = 0\n",
        "  while contador < n:\n",
        "    contador += 1\n",
        "    print(contador)\n",
        "  print(\"Fin del conteo\")\n"
      ],
      "metadata": {
        "collapsed": true,
        "id": "Lvv5V7_QS0Ra"
      },
      "execution_count": null,
      "outputs": []
    },
    {
      "cell_type": "code",
      "source": [
        "contador()"
      ],
      "metadata": {
        "colab": {
          "base_uri": "https://localhost:8080/"
        },
        "collapsed": true,
        "id": "o5VIDm7tUskC",
        "outputId": "ec1e6163-fb4a-4cf5-b00d-5dfc176b030a"
      },
      "execution_count": null,
      "outputs": [
        {
          "output_type": "stream",
          "name": "stdout",
          "text": [
            "Bienvenido al contador \n",
            "Ingresa un numero para contar hasta  el. \n",
            "500\n",
            "1\n",
            "2\n",
            "3\n",
            "4\n",
            "5\n",
            "6\n",
            "7\n",
            "8\n",
            "9\n",
            "10\n",
            "11\n",
            "12\n",
            "13\n",
            "14\n",
            "15\n",
            "16\n",
            "17\n",
            "18\n",
            "19\n",
            "20\n",
            "21\n",
            "22\n",
            "23\n",
            "24\n",
            "25\n",
            "26\n",
            "27\n",
            "28\n",
            "29\n",
            "30\n",
            "31\n",
            "32\n",
            "33\n",
            "34\n",
            "35\n",
            "36\n",
            "37\n",
            "38\n",
            "39\n",
            "40\n",
            "41\n",
            "42\n",
            "43\n",
            "44\n",
            "45\n",
            "46\n",
            "47\n",
            "48\n",
            "49\n",
            "50\n",
            "51\n",
            "52\n",
            "53\n",
            "54\n",
            "55\n",
            "56\n",
            "57\n",
            "58\n",
            "59\n",
            "60\n",
            "61\n",
            "62\n",
            "63\n",
            "64\n",
            "65\n",
            "66\n",
            "67\n",
            "68\n",
            "69\n",
            "70\n",
            "71\n",
            "72\n",
            "73\n",
            "74\n",
            "75\n",
            "76\n",
            "77\n",
            "78\n",
            "79\n",
            "80\n",
            "81\n",
            "82\n",
            "83\n",
            "84\n",
            "85\n",
            "86\n",
            "87\n",
            "88\n",
            "89\n",
            "90\n",
            "91\n",
            "92\n",
            "93\n",
            "94\n",
            "95\n",
            "96\n",
            "97\n",
            "98\n",
            "99\n",
            "100\n",
            "101\n",
            "102\n",
            "103\n",
            "104\n",
            "105\n",
            "106\n",
            "107\n",
            "108\n",
            "109\n",
            "110\n",
            "111\n",
            "112\n",
            "113\n",
            "114\n",
            "115\n",
            "116\n",
            "117\n",
            "118\n",
            "119\n",
            "120\n",
            "121\n",
            "122\n",
            "123\n",
            "124\n",
            "125\n",
            "126\n",
            "127\n",
            "128\n",
            "129\n",
            "130\n",
            "131\n",
            "132\n",
            "133\n",
            "134\n",
            "135\n",
            "136\n",
            "137\n",
            "138\n",
            "139\n",
            "140\n",
            "141\n",
            "142\n",
            "143\n",
            "144\n",
            "145\n",
            "146\n",
            "147\n",
            "148\n",
            "149\n",
            "150\n",
            "151\n",
            "152\n",
            "153\n",
            "154\n",
            "155\n",
            "156\n",
            "157\n",
            "158\n",
            "159\n",
            "160\n",
            "161\n",
            "162\n",
            "163\n",
            "164\n",
            "165\n",
            "166\n",
            "167\n",
            "168\n",
            "169\n",
            "170\n",
            "171\n",
            "172\n",
            "173\n",
            "174\n",
            "175\n",
            "176\n",
            "177\n",
            "178\n",
            "179\n",
            "180\n",
            "181\n",
            "182\n",
            "183\n",
            "184\n",
            "185\n",
            "186\n",
            "187\n",
            "188\n",
            "189\n",
            "190\n",
            "191\n",
            "192\n",
            "193\n",
            "194\n",
            "195\n",
            "196\n",
            "197\n",
            "198\n",
            "199\n",
            "200\n",
            "201\n",
            "202\n",
            "203\n",
            "204\n",
            "205\n",
            "206\n",
            "207\n",
            "208\n",
            "209\n",
            "210\n",
            "211\n",
            "212\n",
            "213\n",
            "214\n",
            "215\n",
            "216\n",
            "217\n",
            "218\n",
            "219\n",
            "220\n",
            "221\n",
            "222\n",
            "223\n",
            "224\n",
            "225\n",
            "226\n",
            "227\n",
            "228\n",
            "229\n",
            "230\n",
            "231\n",
            "232\n",
            "233\n",
            "234\n",
            "235\n",
            "236\n",
            "237\n",
            "238\n",
            "239\n",
            "240\n",
            "241\n",
            "242\n",
            "243\n",
            "244\n",
            "245\n",
            "246\n",
            "247\n",
            "248\n",
            "249\n",
            "250\n",
            "251\n",
            "252\n",
            "253\n",
            "254\n",
            "255\n",
            "256\n",
            "257\n",
            "258\n",
            "259\n",
            "260\n",
            "261\n",
            "262\n",
            "263\n",
            "264\n",
            "265\n",
            "266\n",
            "267\n",
            "268\n",
            "269\n",
            "270\n",
            "271\n",
            "272\n",
            "273\n",
            "274\n",
            "275\n",
            "276\n",
            "277\n",
            "278\n",
            "279\n",
            "280\n",
            "281\n",
            "282\n",
            "283\n",
            "284\n",
            "285\n",
            "286\n",
            "287\n",
            "288\n",
            "289\n",
            "290\n",
            "291\n",
            "292\n",
            "293\n",
            "294\n",
            "295\n",
            "296\n",
            "297\n",
            "298\n",
            "299\n",
            "300\n",
            "301\n",
            "302\n",
            "303\n",
            "304\n",
            "305\n",
            "306\n",
            "307\n",
            "308\n",
            "309\n",
            "310\n",
            "311\n",
            "312\n",
            "313\n",
            "314\n",
            "315\n",
            "316\n",
            "317\n",
            "318\n",
            "319\n",
            "320\n",
            "321\n",
            "322\n",
            "323\n",
            "324\n",
            "325\n",
            "326\n",
            "327\n",
            "328\n",
            "329\n",
            "330\n",
            "331\n",
            "332\n",
            "333\n",
            "334\n",
            "335\n",
            "336\n",
            "337\n",
            "338\n",
            "339\n",
            "340\n",
            "341\n",
            "342\n",
            "343\n",
            "344\n",
            "345\n",
            "346\n",
            "347\n",
            "348\n",
            "349\n",
            "350\n",
            "351\n",
            "352\n",
            "353\n",
            "354\n",
            "355\n",
            "356\n",
            "357\n",
            "358\n",
            "359\n",
            "360\n",
            "361\n",
            "362\n",
            "363\n",
            "364\n",
            "365\n",
            "366\n",
            "367\n",
            "368\n",
            "369\n",
            "370\n",
            "371\n",
            "372\n",
            "373\n",
            "374\n",
            "375\n",
            "376\n",
            "377\n",
            "378\n",
            "379\n",
            "380\n",
            "381\n",
            "382\n",
            "383\n",
            "384\n",
            "385\n",
            "386\n",
            "387\n",
            "388\n",
            "389\n",
            "390\n",
            "391\n",
            "392\n",
            "393\n",
            "394\n",
            "395\n",
            "396\n",
            "397\n",
            "398\n",
            "399\n",
            "400\n",
            "401\n",
            "402\n",
            "403\n",
            "404\n",
            "405\n",
            "406\n",
            "407\n",
            "408\n",
            "409\n",
            "410\n",
            "411\n",
            "412\n",
            "413\n",
            "414\n",
            "415\n",
            "416\n",
            "417\n",
            "418\n",
            "419\n",
            "420\n",
            "421\n",
            "422\n",
            "423\n",
            "424\n",
            "425\n",
            "426\n",
            "427\n",
            "428\n",
            "429\n",
            "430\n",
            "431\n",
            "432\n",
            "433\n",
            "434\n",
            "435\n",
            "436\n",
            "437\n",
            "438\n",
            "439\n",
            "440\n",
            "441\n",
            "442\n",
            "443\n",
            "444\n",
            "445\n",
            "446\n",
            "447\n",
            "448\n",
            "449\n",
            "450\n",
            "451\n",
            "452\n",
            "453\n",
            "454\n",
            "455\n",
            "456\n",
            "457\n",
            "458\n",
            "459\n",
            "460\n",
            "461\n",
            "462\n",
            "463\n",
            "464\n",
            "465\n",
            "466\n",
            "467\n",
            "468\n",
            "469\n",
            "470\n",
            "471\n",
            "472\n",
            "473\n",
            "474\n",
            "475\n",
            "476\n",
            "477\n",
            "478\n",
            "479\n",
            "480\n",
            "481\n",
            "482\n",
            "483\n",
            "484\n",
            "485\n",
            "486\n",
            "487\n",
            "488\n",
            "489\n",
            "490\n",
            "491\n",
            "492\n",
            "493\n",
            "494\n",
            "495\n",
            "496\n",
            "497\n",
            "498\n",
            "499\n",
            "500\n",
            "Fin del conteo\n"
          ]
        }
      ]
    },
    {
      "cell_type": "code",
      "source": [
        "def suma_gauss():\n",
        "  print(\"Este es mi programa que hace la suma de Guass\")\n",
        "  n = int(input(f\"Dame un númeor y te daré su suma desde 1. \\n\"))\n",
        "  suma_gauss = n * (n + 1) / 2\n",
        "  print(f\"La suma de Gauss de 1 a {n} es {int(suma_gauss)}\")\n"
      ],
      "metadata": {
        "id": "1YAvlfiAToIM"
      },
      "execution_count": null,
      "outputs": []
    },
    {
      "cell_type": "code",
      "source": [
        "suma_gauss()"
      ],
      "metadata": {
        "colab": {
          "base_uri": "https://localhost:8080/"
        },
        "id": "N4F1dDdzU5hQ",
        "outputId": "7af65ec8-9c77-4003-cc0f-aee1eebf9a2f"
      },
      "execution_count": null,
      "outputs": [
        {
          "output_type": "stream",
          "name": "stdout",
          "text": [
            "Este es mi programa que hace la suma de Guass\n",
            "Dame un númeor y te daré su suma desde 1. \n",
            "40\n",
            "La suma de Gauss de 1 a 40 es 820\n"
          ]
        }
      ]
    },
    {
      "cell_type": "markdown",
      "source": [
        "---\n",
        "## 📌 9 - Tablas y Gráficos\n",
        "---\n"
      ],
      "metadata": {
        "id": "JK2NlUn5q7jK"
      }
    },
    {
      "cell_type": "markdown",
      "source": [
        "### Titanic"
      ],
      "metadata": {
        "id": "3NYMagi9VuoJ"
      }
    },
    {
      "cell_type": "code",
      "source": [
        "# 1) Cargar el dataset Titanic directamente desde seaborn\n",
        "import pandas as pd\n",
        "import seaborn as sns\n",
        "\n",
        "df = sns.load_dataset(\"titanic\")\n",
        "\n",
        "# Chequeo rápido\n",
        "print(df.shape)       # filas x columnas"
      ],
      "metadata": {
        "colab": {
          "base_uri": "https://localhost:8080/"
        },
        "id": "OldIuXWAY8qf",
        "outputId": "64dd827f-6b0e-4515-ea27-c71c5dc0fa1c",
        "collapsed": true
      },
      "execution_count": null,
      "outputs": [
        {
          "output_type": "stream",
          "name": "stdout",
          "text": [
            "(891, 15)\n"
          ]
        }
      ]
    },
    {
      "cell_type": "code",
      "source": [
        "print(df.columns)     # nombres de columnas"
      ],
      "metadata": {
        "colab": {
          "base_uri": "https://localhost:8080/"
        },
        "collapsed": true,
        "id": "FN23W_wg73hI",
        "outputId": "547a3a00-53bf-42f2-fe3e-9b7939ce8b8f"
      },
      "execution_count": null,
      "outputs": [
        {
          "output_type": "stream",
          "name": "stdout",
          "text": [
            "Index(['survived', 'pclass', 'sex', 'age', 'sibsp', 'parch', 'fare',\n",
            "       'embarked', 'class', 'who', 'adult_male', 'deck', 'embark_town',\n",
            "       'alive', 'alone'],\n",
            "      dtype='object')\n"
          ]
        }
      ]
    },
    {
      "cell_type": "code",
      "source": [
        "print(df.head(3))     # primeras filas"
      ],
      "metadata": {
        "colab": {
          "base_uri": "https://localhost:8080/"
        },
        "collapsed": true,
        "id": "A8ChWsjN77XC",
        "outputId": "79b14091-11dc-4247-fa35-c7344c6e07c4"
      },
      "execution_count": null,
      "outputs": [
        {
          "output_type": "stream",
          "name": "stdout",
          "text": [
            "   survived  pclass     sex   age  sibsp  parch     fare embarked  class  \\\n",
            "0         0       3    male  22.0      1      0   7.2500        S  Third   \n",
            "1         1       1  female  38.0      1      0  71.2833        C  First   \n",
            "2         1       3  female  26.0      0      0   7.9250        S  Third   \n",
            "\n",
            "     who  adult_male deck  embark_town alive  alone  \n",
            "0    man        True  NaN  Southampton    no  False  \n",
            "1  woman       False    C    Cherbourg   yes  False  \n",
            "2  woman       False  NaN  Southampton   yes   True  \n"
          ]
        }
      ]
    },
    {
      "cell_type": "code",
      "source": [
        "print(df.tail(3)) # Ultimas filas"
      ],
      "metadata": {
        "colab": {
          "base_uri": "https://localhost:8080/"
        },
        "collapsed": true,
        "id": "fhW7cEI77-N1",
        "outputId": "ecb11477-a6d0-4ff8-cead-ba8cb2d17c3e"
      },
      "execution_count": null,
      "outputs": [
        {
          "output_type": "stream",
          "name": "stdout",
          "text": [
            "     survived  pclass     sex   age  sibsp  parch   fare embarked  class  \\\n",
            "888         0       3  female   NaN      1      2  23.45        S  Third   \n",
            "889         1       1    male  26.0      0      0  30.00        C  First   \n",
            "890         0       3    male  32.0      0      0   7.75        Q  Third   \n",
            "\n",
            "       who  adult_male deck  embark_town alive  alone  \n",
            "888  woman       False  NaN  Southampton    no  False  \n",
            "889    man        True    C    Cherbourg   yes   True  \n",
            "890    man        True  NaN   Queenstown    no   True  \n"
          ]
        }
      ]
    },
    {
      "cell_type": "markdown",
      "source": [
        "- ¿Que probabilidad tenía una mujer de sobrevivir con el boleto de segunda clase?\n",
        "\n",
        "- ¿Quien es mas probable de sobrevivir, un hombre o una mujer de primera clase?\n",
        "\n",
        "- ¿De cuantos menores de edad tenemos registro?\n"
      ],
      "metadata": {
        "id": "VeCmwRIS8aRk"
      }
    },
    {
      "cell_type": "code",
      "source": [
        "# a)\n",
        "p = df.query(\"sex == 'female' and pclass == 2\")['survived'].mean() * 100 # Con query podemos hacer operaciones lógicas, comparaciones\n",
        "print(f\"Probabilidad (mujer, 2ª clase): {p}%\")\n"
      ],
      "metadata": {
        "colab": {
          "base_uri": "https://localhost:8080/"
        },
        "collapsed": true,
        "id": "k6rElkzP83xu",
        "outputId": "0a73c131-8d5f-4e15-d1ea-7c8accd0c35d"
      },
      "execution_count": null,
      "outputs": [
        {
          "output_type": "stream",
          "name": "stdout",
          "text": [
            "Probabilidad (mujer, 2ª clase): 92.10526315789474%\n"
          ]
        }
      ]
    },
    {
      "cell_type": "code",
      "source": [
        "\n",
        "# b)\n",
        "m_1 = df.query(\"sex == 'female' and pclass == 1\") # Con query podemos hacer operaciones lógicas, comparaciones\n",
        "#print(m_1)\n",
        "m_1_prob = m_1['survived'].mean() * 100\n",
        "\n",
        "h_1 = df.query(\"sex == 'male' and pclass == 1\")\n",
        "h_1_prob = h_1['survived'].mean() * 100\n",
        "\n",
        "print(f\"Probabilidad de sobrevivir en 1ª clase, siendo mujer es {m_1_prob}% y siendo hombre es {h_1_prob}. \")\n"
      ],
      "metadata": {
        "colab": {
          "base_uri": "https://localhost:8080/"
        },
        "id": "rMF47RhPGauB",
        "outputId": "83ea1a47-42ab-48f8-f135-d67bc748acbb"
      },
      "execution_count": null,
      "outputs": [
        {
          "output_type": "stream",
          "name": "stdout",
          "text": [
            "Probabilidad de sobrevivir en 1ª clase, siendo mujer es 96.80851063829788% y siendo hombre es 36.885245901639344. \n"
          ]
        }
      ]
    },
    {
      "cell_type": "code",
      "source": [
        "# c)\n",
        "_m_18 = (df['age'] < 18).sum()   # nombre['columna'] podemos acceder a una columna especifica y hacerle operaciones\n",
        "\n",
        "print(f\"Hubieron {_m_18} menores de edad\")"
      ],
      "metadata": {
        "colab": {
          "base_uri": "https://localhost:8080/"
        },
        "id": "-eF0s1KiHmxu",
        "outputId": "1d34ae9e-ac07-4e78-d122-45a4920a2842"
      },
      "execution_count": null,
      "outputs": [
        {
          "output_type": "stream",
          "name": "stdout",
          "text": [
            "Hubieron 113 menores de edad\n"
          ]
        }
      ]
    },
    {
      "cell_type": "markdown",
      "source": [
        "---\n",
        "## 🟡 Yahoo Finance\n",
        "---\n",
        "\n"
      ],
      "metadata": {
        "id": "BzRHu1_7rJMG"
      }
    },
    {
      "cell_type": "code",
      "source": [
        "import yfinance as yf\n",
        "\n",
        "data = yf.download(\"AAPL\", period=\"1452d\", interval=\"1d\", auto_adjust=True)\n",
        "print(data)"
      ],
      "metadata": {
        "colab": {
          "base_uri": "https://localhost:8080/"
        },
        "id": "ohe1BjIBYZcQ",
        "outputId": "0557ac76-23b9-4812-a09c-a1e38e7caad1"
      },
      "execution_count": null,
      "outputs": [
        {
          "output_type": "stream",
          "name": "stderr",
          "text": [
            "\r[*********************100%***********************]  1 of 1 completed"
          ]
        },
        {
          "output_type": "stream",
          "name": "stdout",
          "text": [
            "Price            Close        High         Low        Open     Volume\n",
            "Ticker            AAPL        AAPL        AAPL        AAPL       AAPL\n",
            "Date                                                                 \n",
            "2020-01-02   72.538513   72.598892   71.292304   71.545890  135480400\n",
            "2020-01-03   71.833298   72.594063   71.608692   71.765674  146322800\n",
            "2020-01-06   72.405685   72.444328   70.703020   70.954195  118387200\n",
            "2020-01-07   72.065147   72.671341   71.845369   72.415337  108872000\n",
            "2020-01-08   73.224396   73.526287   71.768071   71.768071  132079200\n",
            "...                ...         ...         ...         ...        ...\n",
            "2025-10-06  256.690002  259.070007  255.050003  257.989990   44664100\n",
            "2025-10-07  256.480011  257.399994  255.429993  256.809998   31955800\n",
            "2025-10-08  258.059998  258.519989  256.109985  256.519989   36496900\n",
            "2025-10-09  254.039993  258.000000  253.139999  257.809998   38322000\n",
            "2025-10-10  245.270004  256.380005  244.570007  255.039993   61156139\n",
            "\n",
            "[1452 rows x 5 columns]\n"
          ]
        },
        {
          "output_type": "stream",
          "name": "stderr",
          "text": [
            "\n"
          ]
        }
      ]
    },
    {
      "cell_type": "code",
      "source": [
        "print(data.head())"
      ],
      "metadata": {
        "colab": {
          "base_uri": "https://localhost:8080/"
        },
        "id": "6vK1rjOzCRuO",
        "outputId": "281e143f-a324-490c-cec2-95de663c925a"
      },
      "execution_count": null,
      "outputs": [
        {
          "output_type": "stream",
          "name": "stdout",
          "text": [
            "Price           Close       High        Low       Open    Volume\n",
            "Ticker           AAPL       AAPL       AAPL       AAPL      AAPL\n",
            "Date                                                            \n",
            "2018-07-10  44.976326  45.196067  44.936155  45.061388  63756400\n",
            "2018-07-11  44.392708  44.841643  44.328911  44.539202  75326000\n",
            "2018-07-12  45.136990  45.226778  44.730584  44.782566  72164400\n",
            "2018-07-13  45.207874  45.328377  45.106271  45.148804  50055600\n",
            "2018-07-16  45.108646  45.519775  44.992867  45.252779  60172400\n"
          ]
        }
      ]
    },
    {
      "cell_type": "code",
      "source": [
        "print(data.tail())"
      ],
      "metadata": {
        "colab": {
          "base_uri": "https://localhost:8080/"
        },
        "id": "cLhfH4JFCS7f",
        "outputId": "f55f3d78-cfb0-4f58-89f9-c5324a7b6324"
      },
      "execution_count": null,
      "outputs": [
        {
          "output_type": "stream",
          "name": "stdout",
          "text": [
            "Price            Close        High         Low        Open    Volume\n",
            "Ticker            AAPL        AAPL        AAPL        AAPL      AAPL\n",
            "Date                                                                \n",
            "2025-10-06  256.690002  259.070007  255.050003  257.989990  44664100\n",
            "2025-10-07  256.480011  257.399994  255.429993  256.809998  31955800\n",
            "2025-10-08  258.059998  258.519989  256.109985  256.519989  36496900\n",
            "2025-10-09  254.039993  258.000000  253.139999  257.809998  38322000\n",
            "2025-10-10  245.270004  256.380005  244.570007  255.039993  61156139\n"
          ]
        }
      ]
    },
    {
      "cell_type": "code",
      "source": [
        "# Serie principal: cierre ajustado (Close) en línea\n",
        "import matplotlib.pyplot as plt\n",
        "\n",
        "plt.figure(figsize=(10,4))\n",
        "plt.plot(data.index, data[\"Close\"], linewidth=1)\n",
        "plt.title(\"AAPL\")\n",
        "plt.xlabel(\"Fecha\")\n",
        "plt.ylabel(\"Precio (USD)\")\n",
        "plt.grid(True, alpha=0.3)\n",
        "plt.tight_layout()\n",
        "plt.show()"
      ],
      "metadata": {
        "colab": {
          "base_uri": "https://localhost:8080/",
          "height": 407
        },
        "id": "9-QiHjk6NZBs",
        "outputId": "04d53061-3098-4f6c-d11f-d04761ccd64e"
      },
      "execution_count": null,
      "outputs": [
        {
          "output_type": "display_data",
          "data": {
            "text/plain": [
              "<Figure size 1000x400 with 1 Axes>"
            ],
            "image/png": "[encoded data removed]"
          },
          "metadata": {}
        }
      ]
    },
    {
      "cell_type": "markdown",
      "source": [
        "**Logaritmo de los rendimeintos:**\n",
        "\n",
        "$$ln\\left(\\frac{P_{t-1}}{P_t}\\right)= ln(P_{t-1})-ln(P_t)$$"
      ],
      "metadata": {
        "id": "xF8K2RrInyrP"
      }
    },
    {
      "cell_type": "code",
      "source": [
        "# Lógaritmo de los rendimientos\n",
        "close = data[\"Close\"].dropna()\n",
        "\n",
        "import numpy as np\n",
        "logret = np.log(close).diff().dropna()\n",
        "\n",
        "logret.plot(kind=\"hist\", bins=100)\n",
        "plt.show()"
      ],
      "metadata": {
        "colab": {
          "base_uri": "https://localhost:8080/",
          "height": 430
        },
        "id": "7Jp6VIyVMyeU",
        "outputId": "3ac5e421-0add-4799-e149-4e255752e65d"
      },
      "execution_count": null,
      "outputs": [
        {
          "output_type": "display_data",
          "data": {
            "text/plain": [
              "<Figure size 640x480 with 1 Axes>"
            ],
            "image/png": "[encoded data removed]"
          },
          "metadata": {}
        }
      ]
    },
    {
      "cell_type": "markdown",
      "source": [
        "---\n",
        "## 🟡 Api del Banco mundial\n",
        "---\n",
        "\n",
        "Investiga el incremento porcentual de la inflación de 5 paises de latinoamerica (COLOMBIA, BRASIL, BOLIVIA, CHILE, MÉXICO) en el periodo (1994-2024)"
      ],
      "metadata": {
        "id": "BbWdy0anrMYE"
      }
    },
    {
      "cell_type": "code",
      "source": [
        "import pandas as pd # Manipular tablas tipo excel\n",
        "import requests # Acceder a la API\n",
        "\n",
        "# Descargamos el IPC en %, directamente de la API del Banco Mundial)\n",
        "INPC = 'FP.CPI.TOTL.ZG'  # Linea exacta para pedir el INPC\n",
        "countries = ['BOL','BRA','CHL','COL','MEX'] # países\n",
        "start_year, end_year = 1995, 2024 # Tiempo\n",
        "\n",
        "# Creamos una variable que contenga un URL (obligatorio por la API) para pedir el la database\n",
        "url = (f\"http://api.worldbank.org/v2/country/{';'.join(countries)}/indicator/{INPC}\" # Generamos la variable URL para usarla depues\n",
        "       f\"?date={start_year}:{end_year}&format=json&per_page=2000\")  # la estrucutra del URL es así, nomas se rellena con nuestra info.\n",
        "\n",
        "inflation = (pd.json_normalize(requests.get(url).json()[1])  # Descargamos unicamente las observaciones ([1] = datos) del JSON\n",
        "       .loc[:, ['country.value','date','value']] # Seleccionamos las columnas que ocupamos\n",
        "       .rename(columns={'country.value':'country','date':'year','value':'inf'})  # renombramos las columnas (%)\n",
        "       .pivot(index='year', columns='country', values='inf')  # Pasamos de formato ancho a Largo (pivot) para una tabla mas amigable\n",
        "       .sort_index()) # Ordena de las fechas de menor a mayor\n",
        "\n",
        "display(inflation)"
      ],
      "metadata": {
        "colab": {
          "base_uri": "https://localhost:8080/",
          "height": 1000
        },
        "id": "c8ql2cfGR97V",
        "outputId": "c62ebed9-681f-4f78-e2e9-c404562f5c8c"
      },
      "execution_count": null,
      "outputs": [
        {
          "output_type": "display_data",
          "data": {
            "text/plain": [
              "country    Bolivia     Brazil      Chile   Colombia     Mexico\n",
              "year                                                          \n",
              "1995           NaN  66.007034   8.232630  20.891793  34.999271\n",
              "1996           NaN  15.757666   7.359118  20.797576  34.378383\n",
              "1997           NaN   6.926713   6.133865  18.470022  20.625629\n",
              "1998           NaN   3.195076   5.110250  18.676980  15.928395\n",
              "1999           NaN   4.858447   3.336879  10.873687  16.585617\n",
              "2000           NaN   7.044141   3.843273   9.225348   9.491561\n",
              "2001           NaN   6.840359   3.569101   7.965561   6.367738\n",
              "2002           NaN   8.450164   2.489398   6.351507   5.030727\n",
              "2003           NaN  14.714920   2.810179   7.129789   4.546900\n",
              "2004           NaN   6.597185   1.054739   5.904020   4.688409\n",
              "2005           NaN   6.869537   3.052576   5.051020   3.988057\n",
              "2006      4.282396   4.183568   3.392017   4.293424   3.629468\n",
              "2007      8.705609   3.641273   4.407799   5.544385   3.966849\n",
              "2008     14.006811   5.678594   8.716269   6.996885   5.124983\n",
              "2009      3.346454   4.888035   0.353045   4.202517   5.297356\n",
              "2010      2.503276   5.038727   1.410711   2.272002   4.156727\n",
              "2011      9.884464   6.636450   3.341217   3.415033   3.407378\n",
              "2012      4.515603   5.403499   3.007448   3.169302   4.111510\n",
              "2013      5.736400   6.204311   1.789556   2.016992   3.806391\n",
              "2014      5.766601   6.329040   4.718675   2.898838   4.018616\n",
              "2015      4.059610   9.029901   4.348774   4.989831   2.720641\n",
              "2016      3.623214   8.739144   3.786194   7.513460   2.821708\n",
              "2017      2.822758   3.446373   2.182718   4.314313   6.041457\n",
              "2018      2.272060   3.664850   2.434890   3.240569   4.899350\n",
              "2019      1.839545   3.732976   2.557545   3.523019   3.635961\n",
              "2020      0.940742   3.211768   3.045491   2.526635   3.396834\n",
              "2021      0.737384   8.301660   4.524568   3.495058   5.689208\n",
              "2022      1.746329   9.280106  11.643867  10.177231   7.896276\n",
              "2023      2.576888   4.593563   7.581683  11.735904   5.527961\n",
              "2024      5.099766   4.367464   4.297639   6.609086   4.722256"
            ],
            "text/html": [
              "\n",
              "  <div id=\"df-53a69485-0220-4490-81d2-dac3b1fd8ecb\" class=\"colab-df-container\">\n",
              "    <div>\n",
              "<style scoped>\n",
              "    .dataframe tbody tr th:only-of-type {\n",
              "        vertical-align: middle;\n",
              "    }\n",
              "\n",
              "    .dataframe tbody tr th {\n",
              "        vertical-align: top;\n",
              "    }\n",
              "\n",
              "    .dataframe thead th {\n",
              "        text-align: right;\n",
              "    }\n",
              "</style>\n",
              "<table border=\"1\" class=\"dataframe\">\n",
              "  <thead>\n",
              "    <tr style=\"text-align: right;\">\n",
              "      <th>country</th>\n",
              "      <th>Bolivia</th>\n",
              "      <th>Brazil</th>\n",
              "      <th>Chile</th>\n",
              "      <th>Colombia</th>\n",
              "      <th>Mexico</th>\n",
              "    </tr>\n",
              "    <tr>\n",
              "      <th>year</th>\n",
              "      <th></th>\n",
              "      <th></th>\n",
              "      <th></th>\n",
              "      <th></th>\n",
              "      <th></th>\n",
              "    </tr>\n",
              "  </thead>\n",
              "  <tbody>\n",
              "    <tr>\n",
              "      <th>1995</th>\n",
              "      <td>NaN</td>\n",
              "      <td>66.007034</td>\n",
              "      <td>8.232630</td>\n",
              "      <td>20.891793</td>\n",
              "      <td>34.999271</td>\n",
              "    </tr>\n",
              "    <tr>\n",
              "      <th>1996</th>\n",
              "      <td>NaN</td>\n",
              "      <td>15.757666</td>\n",
              "      <td>7.359118</td>\n",
              "      <td>20.797576</td>\n",
              "      <td>34.378383</td>\n",
              "    </tr>\n",
              "    <tr>\n",
              "      <th>1997</th>\n",
              "      <td>NaN</td>\n",
              "      <td>6.926713</td>\n",
              "      <td>6.133865</td>\n",
              "      <td>18.470022</td>\n",
              "      <td>20.625629</td>\n",
              "    </tr>\n",
              "    <tr>\n",
              "      <th>1998</th>\n",
              "      <td>NaN</td>\n",
              "      <td>3.195076</td>\n",
              "      <td>5.110250</td>\n",
              "      <td>18.676980</td>\n",
              "      <td>15.928395</td>\n",
              "    </tr>\n",
              "    <tr>\n",
              "      <th>1999</th>\n",
              "      <td>NaN</td>\n",
              "      <td>4.858447</td>\n",
              "      <td>3.336879</td>\n",
              "      <td>10.873687</td>\n",
              "      <td>16.585617</td>\n",
              "    </tr>\n",
              "    <tr>\n",
              "      <th>2000</th>\n",
              "      <td>NaN</td>\n",
              "      <td>7.044141</td>\n",
              "      <td>3.843273</td>\n",
              "      <td>9.225348</td>\n",
              "      <td>9.491561</td>\n",
              "    </tr>\n",
              "    <tr>\n",
              "      <th>2001</th>\n",
              "      <td>NaN</td>\n",
              "      <td>6.840359</td>\n",
              "      <td>3.569101</td>\n",
              "      <td>7.965561</td>\n",
              "      <td>6.367738</td>\n",
              "    </tr>\n",
              "    <tr>\n",
              "      <th>2002</th>\n",
              "      <td>NaN</td>\n",
              "      <td>8.450164</td>\n",
              "      <td>2.489398</td>\n",
              "      <td>6.351507</td>\n",
              "      <td>5.030727</td>\n",
              "    </tr>\n",
              "    <tr>\n",
              "      <th>2003</th>\n",
              "      <td>NaN</td>\n",
              "      <td>14.714920</td>\n",
              "      <td>2.810179</td>\n",
              "      <td>7.129789</td>\n",
              "      <td>4.546900</td>\n",
              "    </tr>\n",
              "    <tr>\n",
              "      <th>2004</th>\n",
              "      <td>NaN</td>\n",
              "      <td>6.597185</td>\n",
              "      <td>1.054739</td>\n",
              "      <td>5.904020</td>\n",
              "      <td>4.688409</td>\n",
              "    </tr>\n",
              "    <tr>\n",
              "      <th>2005</th>\n",
              "      <td>NaN</td>\n",
              "      <td>6.869537</td>\n",
              "      <td>3.052576</td>\n",
              "      <td>5.051020</td>\n",
              "      <td>3.988057</td>\n",
              "    </tr>\n",
              "    <tr>\n",
              "      <th>2006</th>\n",
              "      <td>4.282396</td>\n",
              "      <td>4.183568</td>\n",
              "      <td>3.392017</td>\n",
              "      <td>4.293424</td>\n",
              "      <td>3.629468</td>\n",
              "    </tr>\n",
              "    <tr>\n",
              "      <th>2007</th>\n",
              "      <td>8.705609</td>\n",
              "      <td>3.641273</td>\n",
              "      <td>4.407799</td>\n",
              "      <td>5.544385</td>\n",
              "      <td>3.966849</td>\n",
              "    </tr>\n",
              "    <tr>\n",
              "      <th>2008</th>\n",
              "      <td>14.006811</td>\n",
              "      <td>5.678594</td>\n",
              "      <td>8.716269</td>\n",
              "      <td>6.996885</td>\n",
              "      <td>5.124983</td>\n",
              "    </tr>\n",
              "    <tr>\n",
              "      <th>2009</th>\n",
              "      <td>3.346454</td>\n",
              "      <td>4.888035</td>\n",
              "      <td>0.353045</td>\n",
              "      <td>4.202517</td>\n",
              "      <td>5.297356</td>\n",
              "    </tr>\n",
              "    <tr>\n",
              "      <th>2010</th>\n",
              "      <td>2.503276</td>\n",
              "      <td>5.038727</td>\n",
              "      <td>1.410711</td>\n",
              "      <td>2.272002</td>\n",
              "      <td>4.156727</td>\n",
              "    </tr>\n",
              "    <tr>\n",
              "      <th>2011</th>\n",
              "      <td>9.884464</td>\n",
              "      <td>6.636450</td>\n",
              "      <td>3.341217</td>\n",
              "      <td>3.415033</td>\n",
              "      <td>3.407378</td>\n",
              "    </tr>\n",
              "    <tr>\n",
              "      <th>2012</th>\n",
              "      <td>4.515603</td>\n",
              "      <td>5.403499</td>\n",
              "      <td>3.007448</td>\n",
              "      <td>3.169302</td>\n",
              "      <td>4.111510</td>\n",
              "    </tr>\n",
              "    <tr>\n",
              "      <th>2013</th>\n",
              "      <td>5.736400</td>\n",
              "      <td>6.204311</td>\n",
              "      <td>1.789556</td>\n",
              "      <td>2.016992</td>\n",
              "      <td>3.806391</td>\n",
              "    </tr>\n",
              "    <tr>\n",
              "      <th>2014</th>\n",
              "      <td>5.766601</td>\n",
              "      <td>6.329040</td>\n",
              "      <td>4.718675</td>\n",
              "      <td>2.898838</td>\n",
              "      <td>4.018616</td>\n",
              "    </tr>\n",
              "    <tr>\n",
              "      <th>2015</th>\n",
              "      <td>4.059610</td>\n",
              "      <td>9.029901</td>\n",
              "      <td>4.348774</td>\n",
              "      <td>4.989831</td>\n",
              "      <td>2.720641</td>\n",
              "    </tr>\n",
              "    <tr>\n",
              "      <th>2016</th>\n",
              "      <td>3.623214</td>\n",
              "      <td>8.739144</td>\n",
              "      <td>3.786194</td>\n",
              "      <td>7.513460</td>\n",
              "      <td>2.821708</td>\n",
              "    </tr>\n",
              "    <tr>\n",
              "      <th>2017</th>\n",
              "      <td>2.822758</td>\n",
              "      <td>3.446373</td>\n",
              "      <td>2.182718</td>\n",
              "      <td>4.314313</td>\n",
              "      <td>6.041457</td>\n",
              "    </tr>\n",
              "    <tr>\n",
              "      <th>2018</th>\n",
              "      <td>2.272060</td>\n",
              "      <td>3.664850</td>\n",
              "      <td>2.434890</td>\n",
              "      <td>3.240569</td>\n",
              "      <td>4.899350</td>\n",
              "    </tr>\n",
              "    <tr>\n",
              "      <th>2019</th>\n",
              "      <td>1.839545</td>\n",
              "      <td>3.732976</td>\n",
              "      <td>2.557545</td>\n",
              "      <td>3.523019</td>\n",
              "      <td>3.635961</td>\n",
              "    </tr>\n",
              "    <tr>\n",
              "      <th>2020</th>\n",
              "      <td>0.940742</td>\n",
              "      <td>3.211768</td>\n",
              "      <td>3.045491</td>\n",
              "      <td>2.526635</td>\n",
              "      <td>3.396834</td>\n",
              "    </tr>\n",
              "    <tr>\n",
              "      <th>2021</th>\n",
              "      <td>0.737384</td>\n",
              "      <td>8.301660</td>\n",
              "      <td>4.524568</td>\n",
              "      <td>3.495058</td>\n",
              "      <td>5.689208</td>\n",
              "    </tr>\n",
              "    <tr>\n",
              "      <th>2022</th>\n",
              "      <td>1.746329</td>\n",
              "      <td>9.280106</td>\n",
              "      <td>11.643867</td>\n",
              "      <td>10.177231</td>\n",
              "      <td>7.896276</td>\n",
              "    </tr>\n",
              "    <tr>\n",
              "      <th>2023</th>\n",
              "      <td>2.576888</td>\n",
              "      <td>4.593563</td>\n",
              "      <td>7.581683</td>\n",
              "      <td>11.735904</td>\n",
              "      <td>5.527961</td>\n",
              "    </tr>\n",
              "    <tr>\n",
              "      <th>2024</th>\n",
              "      <td>5.099766</td>\n",
              "      <td>4.367464</td>\n",
              "      <td>4.297639</td>\n",
              "      <td>6.609086</td>\n",
              "      <td>4.722256</td>\n",
              "    </tr>\n",
              "  </tbody>\n",
              "</table>\n",
              "</div>\n",
              "    <div class=\"colab-df-buttons\">\n",
              "\n",
              "  <div class=\"colab-df-container\">\n",
              "    <button class=\"colab-df-convert\" onclick=\"convertToInteractive('df-53a69485-0220-4490-81d2-dac3b1fd8ecb')\"\n",
              "            title=\"Convert this dataframe to an interactive table.\"\n",
              "            style=\"display:none;\">\n",
              "\n",
              "  <svg xmlns=\"http://www.w3.org/2000/svg\" height=\"24px\" viewBox=\"0 -960 960 960\">\n",
              "    <path d=\"M120-120v-720h720v720H120Zm60-500h600v-160H180v160Zm220 220h160v-160H400v160Zm0 220h160v-160H400v160ZM180-400h160v-160H180v160Zm440 0h160v-160H620v160ZM180-180h160v-160H180v160Zm440 0h160v-160H620v160Z\"/>\n",
              "  </svg>\n",
              "    </button>\n",
              "\n",
              "  <style>\n",
              "    .colab-df-container {\n",
              "      display:flex;\n",
              "      gap: 12px;\n",
              "    }\n",
              "\n",
              "    .colab-df-convert {\n",
              "      background-color: #E8F0FE;\n",
              "      border: none;\n",
              "      border-radius: 50%;\n",
              "      cursor: pointer;\n",
              "      display: none;\n",
              "      fill: #1967D2;\n",
              "      height: 32px;\n",
              "      padding: 0 0 0 0;\n",
              "      width: 32px;\n",
              "    }\n",
              "\n",
              "    .colab-df-convert:hover {\n",
              "      background-color: #E2EBFA;\n",
              "      box-shadow: 0px 1px 2px rgba(60, 64, 67, 0.3), 0px 1px 3px 1px rgba(60, 64, 67, 0.15);\n",
              "      fill: #174EA6;\n",
              "    }\n",
              "\n",
              "    .colab-df-buttons div {\n",
              "      margin-bottom: 4px;\n",
              "    }\n",
              "\n",
              "    [theme=dark] .colab-df-convert {\n",
              "      background-color: #3B4455;\n",
              "      fill: #D2E3FC;\n",
              "    }\n",
              "\n",
              "    [theme=dark] .colab-df-convert:hover {\n",
              "      background-color: #434B5C;\n",
              "      box-shadow: 0px 1px 3px 1px rgba(0, 0, 0, 0.15);\n",
              "      filter: drop-shadow(0px 1px 2px rgba(0, 0, 0, 0.3));\n",
              "      fill: #FFFFFF;\n",
              "    }\n",
              "  </style>\n",
              "\n",
              "    <script>\n",
              "      const buttonEl =\n",
              "        document.querySelector('#df-53a69485-0220-4490-81d2-dac3b1fd8ecb button.colab-df-convert');\n",
              "      buttonEl.style.display =\n",
              "        google.colab.kernel.accessAllowed ? 'block' : 'none';\n",
              "\n",
              "      async function convertToInteractive(key) {\n",
              "        const element = document.querySelector('#df-53a69485-0220-4490-81d2-dac3b1fd8ecb');\n",
              "        const dataTable =\n",
              "          await google.colab.kernel.invokeFunction('convertToInteractive',\n",
              "                                                    [key], {});\n",
              "        if (!dataTable) return;\n",
              "\n",
              "        const docLinkHtml = 'Like what you see? Visit the ' +\n",
              "          '<a target=\"_blank\" href=https://colab.research.google.com/notebooks/data_table.ipynb>data table notebook</a>'\n",
              "          + ' to learn more about interactive tables.';\n",
              "        element.innerHTML = '';\n",
              "        dataTable['output_type'] = 'display_data';\n",
              "        await google.colab.output.renderOutput(dataTable, element);\n",
              "        const docLink = document.createElement('div');\n",
              "        docLink.innerHTML = docLinkHtml;\n",
              "        element.appendChild(docLink);\n",
              "      }\n",
              "    </script>\n",
              "  </div>\n",
              "\n",
              "\n",
              "    <div id=\"df-6da25189-b42b-4aea-a886-b69e8b555c2d\">\n",
              "      <button class=\"colab-df-quickchart\" onclick=\"quickchart('df-6da25189-b42b-4aea-a886-b69e8b555c2d')\"\n",
              "                title=\"Suggest charts\"\n",
              "                style=\"display:none;\">\n",
              "\n",
              "<svg xmlns=\"http://www.w3.org/2000/svg\" height=\"24px\"viewBox=\"0 0 24 24\"\n",
              "     width=\"24px\">\n",
              "    <g>\n",
              "        <path d=\"M19 3H5c-1.1 0-2 .9-2 2v14c0 1.1.9 2 2 2h14c1.1 0 2-.9 2-2V5c0-1.1-.9-2-2-2zM9 17H7v-7h2v7zm4 0h-2V7h2v10zm4 0h-2v-4h2v4z\"/>\n",
              "    </g>\n",
              "</svg>\n",
              "      </button>\n",
              "\n",
              "<style>\n",
              "  .colab-df-quickchart {\n",
              "      --bg-color: #E8F0FE;\n",
              "      --fill-color: #1967D2;\n",
              "      --hover-bg-color: #E2EBFA;\n",
              "      --hover-fill-color: #174EA6;\n",
              "      --disabled-fill-color: #AAA;\n",
              "      --disabled-bg-color: #DDD;\n",
              "  }\n",
              "\n",
              "  [theme=dark] .colab-df-quickchart {\n",
              "      --bg-color: #3B4455;\n",
              "      --fill-color: #D2E3FC;\n",
              "      --hover-bg-color: #434B5C;\n",
              "      --hover-fill-color: #FFFFFF;\n",
              "      --disabled-bg-color: #3B4455;\n",
              "      --disabled-fill-color: #666;\n",
              "  }\n",
              "\n",
              "  .colab-df-quickchart {\n",
              "    background-color: var(--bg-color);\n",
              "    border: none;\n",
              "    border-radius: 50%;\n",
              "    cursor: pointer;\n",
              "    display: none;\n",
              "    fill: var(--fill-color);\n",
              "    height: 32px;\n",
              "    padding: 0;\n",
              "    width: 32px;\n",
              "  }\n",
              "\n",
              "  .colab-df-quickchart:hover {\n",
              "    background-color: var(--hover-bg-color);\n",
              "    box-shadow: 0 1px 2px rgba(60, 64, 67, 0.3), 0 1px 3px 1px rgba(60, 64, 67, 0.15);\n",
              "    fill: var(--button-hover-fill-color);\n",
              "  }\n",
              "\n",
              "  .colab-df-quickchart-complete:disabled,\n",
              "  .colab-df-quickchart-complete:disabled:hover {\n",
              "    background-color: var(--disabled-bg-color);\n",
              "    fill: var(--disabled-fill-color);\n",
              "    box-shadow: none;\n",
              "  }\n",
              "\n",
              "  .colab-df-spinner {\n",
              "    border: 2px solid var(--fill-color);\n",
              "    border-color: transparent;\n",
              "    border-bottom-color: var(--fill-color);\n",
              "    animation:\n",
              "      spin 1s steps(1) infinite;\n",
              "  }\n",
              "\n",
              "  @keyframes spin {\n",
              "    0% {\n",
              "      border-color: transparent;\n",
              "      border-bottom-color: var(--fill-color);\n",
              "      border-left-color: var(--fill-color);\n",
              "    }\n",
              "    20% {\n",
              "      border-color: transparent;\n",
              "      border-left-color: var(--fill-color);\n",
              "      border-top-color: var(--fill-color);\n",
              "    }\n",
              "    30% {\n",
              "      border-color: transparent;\n",
              "      border-left-color: var(--fill-color);\n",
              "      border-top-color: var(--fill-color);\n",
              "      border-right-color: var(--fill-color);\n",
              "    }\n",
              "    40% {\n",
              "      border-color: transparent;\n",
              "      border-right-color: var(--fill-color);\n",
              "      border-top-color: var(--fill-color);\n",
              "    }\n",
              "    60% {\n",
              "      border-color: transparent;\n",
              "      border-right-color: var(--fill-color);\n",
              "    }\n",
              "    80% {\n",
              "      border-color: transparent;\n",
              "      border-right-color: var(--fill-color);\n",
              "      border-bottom-color: var(--fill-color);\n",
              "    }\n",
              "    90% {\n",
              "      border-color: transparent;\n",
              "      border-bottom-color: var(--fill-color);\n",
              "    }\n",
              "  }\n",
              "</style>\n",
              "\n",
              "      <script>\n",
              "        async function quickchart(key) {\n",
              "          const quickchartButtonEl =\n",
              "            document.querySelector('#' + key + ' button');\n",
              "          quickchartButtonEl.disabled = true;  // To prevent multiple clicks.\n",
              "          quickchartButtonEl.classList.add('colab-df-spinner');\n",
              "          try {\n",
              "            const charts = await google.colab.kernel.invokeFunction(\n",
              "                'suggestCharts', [key], {});\n",
              "          } catch (error) {\n",
              "            console.error('Error during call to suggestCharts:', error);\n",
              "          }\n",
              "          quickchartButtonEl.classList.remove('colab-df-spinner');\n",
              "          quickchartButtonEl.classList.add('colab-df-quickchart-complete');\n",
              "        }\n",
              "        (() => {\n",
              "          let quickchartButtonEl =\n",
              "            document.querySelector('#df-6da25189-b42b-4aea-a886-b69e8b555c2d button');\n",
              "          quickchartButtonEl.style.display =\n",
              "            google.colab.kernel.accessAllowed ? 'block' : 'none';\n",
              "        })();\n",
              "      </script>\n",
              "    </div>\n",
              "\n",
              "  <div id=\"id_942c1ff8-2468-4b23-a238-5db77e9cc1cf\">\n",
              "    <style>\n",
              "      .colab-df-generate {\n",
              "        background-color: #E8F0FE;\n",
              "        border: none;\n",
              "        border-radius: 50%;\n",
              "        cursor: pointer;\n",
              "        display: none;\n",
              "        fill: #1967D2;\n",
              "        height: 32px;\n",
              "        padding: 0 0 0 0;\n",
              "        width: 32px;\n",
              "      }\n",
              "\n",
              "      .colab-df-generate:hover {\n",
              "        background-color: #E2EBFA;\n",
              "        box-shadow: 0px 1px 2px rgba(60, 64, 67, 0.3), 0px 1px 3px 1px rgba(60, 64, 67, 0.15);\n",
              "        fill: #174EA6;\n",
              "      }\n",
              "\n",
              "      [theme=dark] .colab-df-generate {\n",
              "        background-color: #3B4455;\n",
              "        fill: #D2E3FC;\n",
              "      }\n",
              "\n",
              "      [theme=dark] .colab-df-generate:hover {\n",
              "        background-color: #434B5C;\n",
              "        box-shadow: 0px 1px 3px 1px rgba(0, 0, 0, 0.15);\n",
              "        filter: drop-shadow(0px 1px 2px rgba(0, 0, 0, 0.3));\n",
              "        fill: #FFFFFF;\n",
              "      }\n",
              "    </style>\n",
              "    <button class=\"colab-df-generate\" onclick=\"generateWithVariable('inflation')\"\n",
              "            title=\"Generate code using this dataframe.\"\n",
              "            style=\"display:none;\">\n",
              "\n",
              "  <svg xmlns=\"http://www.w3.org/2000/svg\" height=\"24px\"viewBox=\"0 0 24 24\"\n",
              "       width=\"24px\">\n",
              "    <path d=\"M7,19H8.4L18.45,9,17,7.55,7,17.6ZM5,21V16.75L18.45,3.32a2,2,0,0,1,2.83,0l1.4,1.43a1.91,1.91,0,0,1,.58,1.4,1.91,1.91,0,0,1-.58,1.4L9.25,21ZM18.45,9,17,7.55Zm-12,3A5.31,5.31,0,0,0,4.9,8.1,5.31,5.31,0,0,0,1,6.5,5.31,5.31,0,0,0,4.9,4.9,5.31,5.31,0,0,0,6.5,1,5.31,5.31,0,0,0,8.1,4.9,5.31,5.31,0,0,0,12,6.5,5.46,5.46,0,0,0,6.5,12Z\"/>\n",
              "  </svg>\n",
              "    </button>\n",
              "    <script>\n",
              "      (() => {\n",
              "      const buttonEl =\n",
              "        document.querySelector('#id_942c1ff8-2468-4b23-a238-5db77e9cc1cf button.colab-df-generate');\n",
              "      buttonEl.style.display =\n",
              "        google.colab.kernel.accessAllowed ? 'block' : 'none';\n",
              "\n",
              "      buttonEl.onclick = () => {\n",
              "        google.colab.notebook.generateWithVariable('inflation');\n",
              "      }\n",
              "      })();\n",
              "    </script>\n",
              "  </div>\n",
              "\n",
              "    </div>\n",
              "  </div>\n"
            ],
            "application/vnd.google.colaboratory.intrinsic+json": {
              "type": "dataframe",
              "variable_name": "inflation",
              "summary": "{\n  \"name\": \"inflation\",\n  \"rows\": 30,\n  \"fields\": [\n    {\n      \"column\": \"year\",\n      \"properties\": {\n        \"dtype\": \"object\",\n        \"num_unique_values\": 30,\n        \"samples\": [\n          \"2022\",\n          \"2010\",\n          \"2018\"\n        ],\n        \"semantic_type\": \"\",\n        \"description\": \"\"\n      }\n    },\n    {\n      \"column\": \"Bolivia\",\n      \"properties\": {\n        \"dtype\": \"number\",\n        \"std\": 3.33154003565826,\n        \"min\": 0.737383721452307,\n        \"max\": 14.006810770252,\n        \"num_unique_values\": 19,\n        \"samples\": [\n          4.28239604802562,\n          9.88446419823886,\n          2.8227580554717\n        ],\n        \"semantic_type\": \"\",\n        \"description\": \"\"\n      }\n    },\n    {\n      \"column\": \"Brazil\",\n      \"properties\": {\n        \"dtype\": \"number\",\n        \"std\": 11.271770295878556,\n        \"min\": 3.1950762928005,\n        \"max\": 66.0070335542481,\n        \"num_unique_values\": 30,\n        \"samples\": [\n          9.28010608956872,\n          5.03872690108075,\n          3.66485028376727\n        ],\n        \"semantic_type\": \"\",\n        \"description\": \"\"\n      }\n    },\n    {\n      \"column\": \"Chile\",\n      \"properties\": {\n        \"dtype\": \"number\",\n        \"std\": 2.4799721001696646,\n        \"min\": 0.353045178360933,\n        \"max\": 11.643866711056,\n        \"num_unique_values\": 30,\n        \"samples\": [\n          11.643866711056,\n          1.41071107954321,\n          2.43488981353054\n        ],\n        \"semantic_type\": \"\",\n        \"description\": \"\"\n      }\n    },\n    {\n      \"column\": \"Colombia\",\n      \"properties\": {\n        \"dtype\": \"number\",\n        \"std\": 5.5158651121569955,\n        \"min\": 2.01699224310385,\n        \"max\": 20.8917930194849,\n        \"num_unique_values\": 30,\n        \"samples\": [\n          10.1772313546166,\n          2.27200227892011,\n          3.2405693293057\n        ],\n        \"semantic_type\": \"\",\n        \"description\": \"\"\n      }\n    },\n    {\n      \"column\": \"Mexico\",\n      \"properties\": {\n        \"dtype\": \"number\",\n        \"std\": 8.385762660882124,\n        \"min\": 2.72064064964029,\n        \"max\": 34.9992712889592,\n        \"num_unique_values\": 30,\n        \"samples\": [\n          7.89627619168551,\n          4.15672722680173,\n          4.89935015356547\n        ],\n        \"semantic_type\": \"\",\n        \"description\": \"\"\n      }\n    }\n  ]\n}"
            }
          },
          "metadata": {}
        }
      ]
    },
    {
      "cell_type": "code",
      "source": [
        "import matplotlib.pyplot as plt # Necesario para graficar\n",
        "\n",
        "inflation.plot(figsize=(12,7), marker='o', grid=True, title='Inflación anual (%) — 1995–2024') # Tamaño, puntos y título.\n",
        "plt.show()"
      ],
      "metadata": {
        "colab": {
          "base_uri": "https://localhost:8080/",
          "height": 641
        },
        "id": "v0XVA6yfSM3l",
        "outputId": "79bedd11-1284-4063-f0d1-cca3fc0feda4"
      },
      "execution_count": null,
      "outputs": [
        {
          "output_type": "display_data",
          "data": {
            "text/plain": [
              "<Figure size 1200x700 with 1 Axes>"
            ],
            "image/png": "[encoded data removed]"
          },
          "metadata": {}
        }
      ]
    },
    {
      "cell_type": "markdown",
      "source": [
        "Factor acumulado $$= ∏_{t=1995}^{2024}(1+π_t)$$"
      ],
      "metadata": {
        "id": "Q4eeZLCCSQwq"
      }
    },
    {
      "cell_type": "code",
      "source": [
        "# Calcular el factor acumulado para cada país\n",
        "\n",
        "factor_acumulado = (1 + inflation/100).prod() #Aplicamos la ecuación transformando de decimales a % para poder hacer la operación\n",
        "factor_acumulado = factor_acumulado.sort_values(ascending=False) # Organizamos de mayor a menor por gusto\n",
        "\n",
        "display(factor_acumulado)"
      ],
      "metadata": {
        "colab": {
          "base_uri": "https://localhost:8080/",
          "height": 272
        },
        "id": "rxl8QCLgSOtx",
        "outputId": "d2e76625-43d3-4ed5-aa20-38d7b646c5cf"
      },
      "execution_count": null,
      "outputs": [
        {
          "output_type": "display_data",
          "data": {
            "text/plain": [
              "country\n",
              "Brazil      10.113296\n",
              "Mexico       9.433266\n",
              "Colombia     8.383503\n",
              "Chile        3.360501\n",
              "Bolivia      2.264888\n",
              "dtype: float64"
            ],
            "text/html": [
              "<div>\n",
              "<style scoped>\n",
              "    .dataframe tbody tr th:only-of-type {\n",
              "        vertical-align: middle;\n",
              "    }\n",
              "\n",
              "    .dataframe tbody tr th {\n",
              "        vertical-align: top;\n",
              "    }\n",
              "\n",
              "    .dataframe thead th {\n",
              "        text-align: right;\n",
              "    }\n",
              "</style>\n",
              "<table border=\"1\" class=\"dataframe\">\n",
              "  <thead>\n",
              "    <tr style=\"text-align: right;\">\n",
              "      <th></th>\n",
              "      <th>0</th>\n",
              "    </tr>\n",
              "    <tr>\n",
              "      <th>country</th>\n",
              "      <th></th>\n",
              "    </tr>\n",
              "  </thead>\n",
              "  <tbody>\n",
              "    <tr>\n",
              "      <th>Brazil</th>\n",
              "      <td>10.113296</td>\n",
              "    </tr>\n",
              "    <tr>\n",
              "      <th>Mexico</th>\n",
              "      <td>9.433266</td>\n",
              "    </tr>\n",
              "    <tr>\n",
              "      <th>Colombia</th>\n",
              "      <td>8.383503</td>\n",
              "    </tr>\n",
              "    <tr>\n",
              "      <th>Chile</th>\n",
              "      <td>3.360501</td>\n",
              "    </tr>\n",
              "    <tr>\n",
              "      <th>Bolivia</th>\n",
              "      <td>2.264888</td>\n",
              "    </tr>\n",
              "  </tbody>\n",
              "</table>\n",
              "</div><br><label><b>dtype:</b> float64</label>"
            ]
          },
          "metadata": {}
        }
      ]
    }
  ],
  "metadata": {
    "colab": {
      "collapsed_sections": [
        "PdVLbKQyRdmW",
        "7i7AAoahfpvi",
        "4eCIjD2sdV0M",
        "DfW164eGcUFS",
        "r4a64yIfr6Nf",
        "zEqm8T3Nz1lz",
        "DEn-bbfZzMM0",
        "5ZqwLfibzyTU",
        "rbVLqbyNziK2",
        "AEndhINjEMSn",
        "9mfsGuHeoasL",
        "WOZI2RcYofgc",
        "Sv0r6qn1qzU2",
        "NN1dlHZnq28W"
      ],
      "provenance": []
    },
    "kernelspec": {
      "display_name": "Python 3",
      "name": "python3"
    },
    "language_info": {
      "name": "python"
    }
  },
  "nbformat": 4,
  "nbformat_minor": 0
}